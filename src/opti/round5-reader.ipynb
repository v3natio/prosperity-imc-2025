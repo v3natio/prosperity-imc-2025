{
 "cells": [
  {
   "metadata": {
    "ExecuteTime": {
     "end_time": "2025-04-21T14:57:25.256219Z",
     "start_time": "2025-04-21T14:57:25.250129Z"
    }
   },
   "cell_type": "code",
   "source": [
    "import json\n",
    "from pathlib import Path"
   ],
   "id": "68ce13b2f1a0ded9",
   "outputs": [],
   "execution_count": 1
  },
  {
   "metadata": {
    "ExecuteTime": {
     "end_time": "2025-04-21T14:57:38.609938Z",
     "start_time": "2025-04-21T14:57:38.307342Z"
    }
   },
   "cell_type": "code",
   "source": [
    "with (Path.cwd() / \"round5-trades-gridsearch.json\").open(\"r\", encoding=\"utf-8\") as file:\n",
    "    results = json.load(file)"
   ],
   "id": "4ade9f55dafcb39c",
   "outputs": [],
   "execution_count": 2
  },
  {
   "metadata": {
    "ExecuteTime": {
     "end_time": "2025-04-21T14:58:12.016084Z",
     "start_time": "2025-04-21T14:58:11.961648Z"
    }
   },
   "cell_type": "code",
   "source": [
    "products = list({\n",
    "    \"RAINFOREST_RESIN\": 50,\n",
    "    \"KELP\": 50,\n",
    "    \"SQUID_INK\": 50,\n",
    "    \"CROISSANTS\": 250,\n",
    "    \"JAMS\": 350,\n",
    "    \"DJEMBES\": 60,\n",
    "    \"PICNIC_BASKET1\": 60,\n",
    "    \"PICNIC_BASKET2\": 100,\n",
    "    \"VOLCANIC_ROCK\": 400,\n",
    "    \"VOLCANIC_ROCK_VOUCHER_9500\": 200,\n",
    "    \"VOLCANIC_ROCK_VOUCHER_9750\": 200,\n",
    "    \"VOLCANIC_ROCK_VOUCHER_10000\": 200,\n",
    "    \"VOLCANIC_ROCK_VOUCHER_10250\": 200,\n",
    "    \"VOLCANIC_ROCK_VOUCHER_10500\": 200,\n",
    "    \"MAGNIFICENT_MACARONS\": 75,\n",
    "}.keys())\n",
    "\n",
    "for product in products:\n",
    "    result = max(results, key=lambda r: r[f\"total_{product}_pnl\"])\n",
    "    print(product, result[\"buyer1\"], result[\"seller1\"], result[\"buyer2\"], result[\"seller2\"], result[f\"total_{product}_pnl\"], result[f\"{product}_min\"])"
   ],
   "id": "243ce9e59f20f261",
   "outputs": [
    {
     "name": "stdout",
     "output_type": "stream",
     "text": [
      "RAINFOREST_RESIN Caesar Caesar Caesar Caesar 0.0 0.0\n",
      "KELP Olivia Charlie Charlie Olivia 2563.0 -125.0\n",
      "SQUID_INK Olivia Charlie Charlie Olivia 28979.0 -313.0\n",
      "CROISSANTS Olivia Caesar Caesar Olivia 58080.0 -178.0\n",
      "JAMS Caesar Caesar Camilla Paris 13908.0 -23450.0\n",
      "DJEMBES Camilla Paris Caesar Caesar 2610.0 -2940.0\n",
      "PICNIC_BASKET1 Camilla Caesar Pablo Penelope 39776.0 -15649.0\n",
      "PICNIC_BASKET2 Camilla Pablo Charlie Penelope 62890.0 -27069.0\n",
      "VOLCANIC_ROCK Pablo Caesar Caesar Pablo 104270.0 -97266.0\n",
      "VOLCANIC_ROCK_VOUCHER_9500 Caesar Pablo Penelope Caesar 102288.0 -21146.0\n",
      "VOLCANIC_ROCK_VOUCHER_9750 Caesar Pablo Pablo Caesar 119465.0 -31960.0\n",
      "VOLCANIC_ROCK_VOUCHER_10000 Caesar Pablo Penelope Caesar 59399.0 -19006.0\n",
      "VOLCANIC_ROCK_VOUCHER_10250 Penelope Caesar Caesar Penelope 24241.0 -8249.0\n",
      "VOLCANIC_ROCK_VOUCHER_10500 Caesar Camilla Caesar Caesar 1332.0 -1668.0\n",
      "MAGNIFICENT_MACARONS Paris Paris Caesar Caesar 21689.0 -7814.0\n"
     ]
    }
   ],
   "execution_count": 3
  }
 ],
 "metadata": {},
 "nbformat": 4,
 "nbformat_minor": 5
}
