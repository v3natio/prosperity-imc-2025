{
 "cells": [
  {
   "cell_type": "markdown",
   "id": "9ba96ec3",
   "metadata": {},
   "source": [
    "# imports/setup"
   ]
  },
  {
   "cell_type": "code",
   "id": "f51d0f2e-b498-485c-acf4-eea427479f01",
   "metadata": {
    "ExecuteTime": {
     "end_time": "2025-04-12T08:35:42.136086Z",
     "start_time": "2025-04-12T08:35:41.648616Z"
    }
   },
   "source": [
    "\n",
    "import pandas as pd\n",
    "from typing import List, Dict, Any\n",
    "from datamodel import Listing, Trade"
   ],
   "outputs": [],
   "execution_count": 1
  },
  {
   "cell_type": "markdown",
   "id": "f80bc1c3",
   "metadata": {},
   "source": [
    "# backtester"
   ]
  },
  {
   "cell_type": "code",
   "id": "ea89d5f7",
   "metadata": {
    "ExecuteTime": {
     "end_time": "2025-04-12T08:36:19.946236Z",
     "start_time": "2025-04-12T08:36:19.861883Z"
    }
   },
   "source": [
    "class Backtester:\n",
    "    def __init__(self, trader, listings: Dict[str, Listing], position_limit: Dict[str, int],\n",
    "                 market_data: pd.DataFrame, trade_history: pd.DataFrame, file_name: str = None):\n",
    "        self.trader = trader\n",
    "        self.listings = listings\n",
    "        self.market_data = market_data\n",
    "        self.position_limit = position_limit\n",
    "        self.fair_marks = {}\n",
    "        self.trade_history = trade_history.sort_values(by=['timestamp', 'symbol'])\n",
    "        self.file_name = file_name\n",
    "\n",
    "        self.observations = [Observation({}, {}) for _ in range(len(market_data))]\n",
    "\n",
    "        self.current_position = {product: 0 for product in self.listings.keys()}\n",
    "        self.pnl_history = []\n",
    "        self.pnl = {product: 0 for product in self.listings.keys()}\n",
    "        self.cash = {product: 0 for product in self.listings.keys()}\n",
    "        self.trades = []\n",
    "        self.sandbox_logs = []\n",
    "        \n",
    "    def run(self):\n",
    "        traderData = \"\"\n",
    "        \n",
    "        timestamp_group_md = self.market_data.groupby('timestamp')\n",
    "        timestamp_group_th = self.trade_history.groupby('timestamp')\n",
    "        \n",
    "        own_trades = defaultdict(list)\n",
    "        market_trades = defaultdict(list)\n",
    "        pnl_product = defaultdict(float)\n",
    "        \n",
    "        trade_history_dict = {}\n",
    "        \n",
    "        for timestamp, group in timestamp_group_th:\n",
    "            trades = []\n",
    "            for _, row in group.iterrows():\n",
    "                symbol = row['symbol']\n",
    "                price = row['price']\n",
    "                quantity = row['quantity']\n",
    "                buyer = row['buyer'] if pd.notnull(row['buyer']) else \"\"\n",
    "                seller = row['seller'] if pd.notnull(row['seller']) else \"\"\n",
    "\n",
    "                \n",
    "                trade = Trade(symbol, int(price), int(quantity), buyer, seller, timestamp)\n",
    "                \n",
    "                trades.append(trade)\n",
    "            trade_history_dict[timestamp] = trades\n",
    "        \n",
    "        \n",
    "        for timestamp, group in timestamp_group_md:\n",
    "            order_depths = self._construct_order_depths(group)\n",
    "            order_depths_matching = self._construct_order_depths(group)\n",
    "            order_depths_pnl = self._construct_order_depths(group)\n",
    "            state = self._construct_trading_state(traderData, timestamp, self.listings, order_depths, \n",
    "                                 dict(own_trades), dict(market_trades), self.current_position, self.observations)\n",
    "            orders, conversions, traderData = self.trader.run(state)\n",
    "            products = group['product'].tolist()\n",
    "            sandboxLog = \"\"\n",
    "            trades_at_timestamp = trade_history_dict.get(timestamp, [])\n",
    "\n",
    "            for product in products:\n",
    "                new_trades = []\n",
    "                for order in orders.get(product, []):\n",
    "                    trades_done, sandboxLog = self._execute_order(timestamp, order, order_depths_matching, self.current_position, self.cash, trade_history_dict, sandboxLog)\n",
    "                    new_trades.extend(trades_done)\n",
    "                if len(new_trades) > 0:\n",
    "                    own_trades[product] = new_trades\n",
    "            self.sandbox_logs.append({\"sandboxLog\": sandboxLog, \"lambdaLog\": \"\", \"timestamp\": timestamp})\n",
    "\n",
    "            trades_at_timestamp = trade_history_dict.get(timestamp, [])\n",
    "            if trades_at_timestamp:\n",
    "                for trade in trades_at_timestamp:\n",
    "                    product = trade.symbol\n",
    "                    market_trades[product].append(trade)\n",
    "            else: \n",
    "                for product in products:\n",
    "                    market_trades[product] = []\n",
    "\n",
    "            \n",
    "            for product in products:\n",
    "                self._mark_pnl(self.cash, self.current_position, order_depths_pnl, self.pnl, product)\n",
    "                self.pnl_history.append(self.pnl[product])\n",
    "            self._add_trades(own_trades, market_trades)\n",
    "        return self._log_trades(self.file_name)\n",
    "    \n",
    "    \n",
    "    def _log_trades(self, filename: str = None):\n",
    "        if filename is None:\n",
    "            return \n",
    "\n",
    "        self.market_data['profit_and_loss'] = self.pnl_history\n",
    "\n",
    "        output = \"\"\n",
    "        output += \"Sandbox logs:\\n\"\n",
    "        for i in self.sandbox_logs:\n",
    "            output += json.dumps(i, indent=2) + \"\\n\"\n",
    "\n",
    "        output += \"\\n\\n\\n\\nActivities log:\\n\"\n",
    "        market_data_csv = self.market_data.to_csv(index=False, sep=\";\")\n",
    "        market_data_csv = market_data_csv.replace(\"\\r\\n\", \"\\n\")\n",
    "        output += market_data_csv\n",
    "\n",
    "        output += \"\\n\\n\\n\\nTrade History:\\n\"\n",
    "        output += json.dumps(self.trades, indent=2)\n",
    "\n",
    "        with open(filename, 'w') as file:\n",
    "            file.write(output)\n",
    "\n",
    "            \n",
    "    def _add_trades(self, own_trades: Dict[str, List[Trade]], market_trades: Dict[str, List[Trade]]):\n",
    "        products = set(own_trades.keys()) | set(market_trades.keys())\n",
    "        for product in products:\n",
    "            self.trades.extend([self._trade_to_dict(trade) for trade in own_trades.get(product, [])])\n",
    "        for product in products:\n",
    "            self.trades.extend([self._trade_to_dict(trade) for trade in market_trades.get(product, [])])\n",
    "\n",
    "    def _trade_to_dict(self, trade: Trade) -> dict[str, Any]:\n",
    "        return {\n",
    "            \"timestamp\": trade.timestamp,\n",
    "            \"buyer\": trade.buyer,\n",
    "            \"seller\": trade.seller,\n",
    "            \"symbol\": trade.symbol,\n",
    "            \"currency\": \"SEASHELLS\",\n",
    "            \"price\": trade.price,\n",
    "            \"quantity\": trade.quantity,\n",
    "        }\n",
    "        \n",
    "    def _construct_trading_state(self, traderData, timestamp, listings, order_depths, \n",
    "                                 own_trades, market_trades, position, observations):\n",
    "        state = TradingState(traderData, timestamp, listings, order_depths, \n",
    "                             own_trades, market_trades, position, observations)\n",
    "        return state\n",
    "    \n",
    "        \n",
    "    def _construct_order_depths(self, group):\n",
    "        order_depths = {}\n",
    "        for idx, row in group.iterrows():\n",
    "            product = row['product']\n",
    "            order_depth = OrderDepth()\n",
    "            for i in range(1, 4):\n",
    "                if f'bid_price_{i}' in row and f'bid_volume_{i}' in row:\n",
    "                    bid_price = row[f'bid_price_{i}']\n",
    "                    bid_volume = row[f'bid_volume_{i}']\n",
    "                    if not pd.isna(bid_price) and not pd.isna(bid_volume):\n",
    "                        order_depth.buy_orders[int(bid_price)] = int(bid_volume)\n",
    "                if f'ask_price_{i}' in row and f'ask_volume_{i}' in row:\n",
    "                    ask_price = row[f'ask_price_{i}']\n",
    "                    ask_volume = row[f'ask_volume_{i}']\n",
    "                    if not pd.isna(ask_price) and not pd.isna(ask_volume):\n",
    "                        order_depth.sell_orders[int(ask_price)] = -int(ask_volume)\n",
    "            order_depths[product] = order_depth\n",
    "        return order_depths\n",
    "    \n",
    "        \n",
    "        \n",
    "    def _execute_buy_order(self, timestamp, order, order_depths, position, cash, trade_history_dict, sandboxLog):\n",
    "        trades = []\n",
    "        order_depth = order_depths[order.symbol]\n",
    "\n",
    "        for price, volume in list(order_depth.sell_orders.items()):\n",
    "            if price > order.price or order.quantity == 0:\n",
    "                break\n",
    "\n",
    "            trade_volume = min(abs(order.quantity), abs(volume))\n",
    "            if abs(trade_volume + position[order.symbol]) <= int(self.position_limit[order.symbol]):\n",
    "                trades.append(Trade(order.symbol, price, trade_volume, \"SUBMISSION\", \"\", timestamp))\n",
    "                position[order.symbol] += trade_volume\n",
    "                self.cash[order.symbol] -= price * trade_volume\n",
    "                order_depth.sell_orders[price] += trade_volume\n",
    "                order.quantity -= trade_volume\n",
    "            else:\n",
    "                sandboxLog += f\"\\nOrders for product {order.symbol} exceeded limit of {self.position_limit[order.symbol]} set\"\n",
    "            \n",
    "\n",
    "            if order_depth.sell_orders[price] == 0:\n",
    "                del order_depth.sell_orders[price]\n",
    "        \n",
    "        trades_at_timestamp = trade_history_dict.get(timestamp, [])\n",
    "        new_trades_at_timestamp = []\n",
    "        for trade in trades_at_timestamp:\n",
    "            if trade.symbol == order.symbol:\n",
    "                if trade.price < order.price:\n",
    "                    trade_volume = min(abs(order.quantity), abs(trade.quantity))\n",
    "                    trades.append(Trade(order.symbol, order.price, trade_volume, \"SUBMISSION\", \"\", timestamp))\n",
    "                    order.quantity -= trade_volume\n",
    "                    position[order.symbol] += trade_volume\n",
    "                    self.cash[order.symbol] -= order.price * trade_volume\n",
    "                    if trade_volume == abs(trade.quantity):\n",
    "                        continue\n",
    "                    else:\n",
    "                        new_quantity = trade.quantity - trade_volume\n",
    "                        new_trades_at_timestamp.append(Trade(order.symbol, order.price, new_quantity, \"\", \"\", timestamp))\n",
    "                        continue\n",
    "            new_trades_at_timestamp.append(trade)  \n",
    "\n",
    "        if len(new_trades_at_timestamp) > 0:\n",
    "            trade_history_dict[timestamp] = new_trades_at_timestamp\n",
    "\n",
    "        return trades, sandboxLog\n",
    "        \n",
    "        \n",
    "        \n",
    "    def _execute_sell_order(self, timestamp, order, order_depths, position, cash, trade_history_dict, sandboxLog):\n",
    "        trades = []\n",
    "        order_depth = order_depths[order.symbol]\n",
    "        \n",
    "        for price, volume in sorted(order_depth.buy_orders.items(), reverse=True):\n",
    "            if price < order.price or order.quantity == 0:\n",
    "                break\n",
    "\n",
    "            trade_volume = min(abs(order.quantity), abs(volume))\n",
    "            if abs(position[order.symbol] - trade_volume) <= int(self.position_limit[order.symbol]):\n",
    "                trades.append(Trade(order.symbol, price, trade_volume, \"\", \"SUBMISSION\", timestamp))\n",
    "                position[order.symbol] -= trade_volume\n",
    "                self.cash[order.symbol] += price * abs(trade_volume)\n",
    "                order_depth.buy_orders[price] -= abs(trade_volume)\n",
    "                order.quantity += trade_volume\n",
    "            else:\n",
    "                sandboxLog += f\"\\nOrders for product {order.symbol} exceeded limit of {self.position_limit[order.symbol]} set\"\n",
    "\n",
    "            if order_depth.buy_orders[price] == 0:\n",
    "                del order_depth.buy_orders[price]\n",
    "\n",
    "        trades_at_timestamp = trade_history_dict.get(timestamp, [])\n",
    "        new_trades_at_timestamp = []\n",
    "        for trade in trades_at_timestamp:\n",
    "            if trade.symbol == order.symbol:\n",
    "                if trade.price > order.price:\n",
    "                    trade_volume = min(abs(order.quantity), abs(trade.quantity))\n",
    "                    trades.append(Trade(order.symbol, order.price, trade_volume, \"\", \"SUBMISSION\", timestamp))\n",
    "                    order.quantity += trade_volume\n",
    "                    position[order.symbol] -= trade_volume\n",
    "                    self.cash[order.symbol] += order.price * trade_volume\n",
    "                    if trade_volume == abs(trade.quantity):\n",
    "                        continue\n",
    "                    else:\n",
    "                        new_quantity = trade.quantity - trade_volume\n",
    "                        new_trades_at_timestamp.append(Trade(order.symbol, order.price, new_quantity, \"\", \"\", timestamp))\n",
    "                        continue\n",
    "            new_trades_at_timestamp.append(trade)  \n",
    "\n",
    "        if len(new_trades_at_timestamp) > 0:\n",
    "            trade_history_dict[timestamp] = new_trades_at_timestamp\n",
    "                \n",
    "        return trades, sandboxLog\n",
    "        \n",
    "        \n",
    "        \n",
    "    def _execute_order(self, timestamp, order, order_depths, position, cash, trades_at_timestamp, sandboxLog):\n",
    "        if order.quantity == 0:\n",
    "            return [], sandboxLog\n",
    "        \n",
    "        order_depth = order_depths[order.symbol]\n",
    "        if order.quantity > 0:\n",
    "            return self._execute_buy_order(timestamp, order, order_depths, position, cash, trades_at_timestamp, sandboxLog)\n",
    "        else:\n",
    "            return self._execute_sell_order(timestamp, order, order_depths, position, cash, trades_at_timestamp, sandboxLog)\n",
    "    \n",
    "    def _mark_pnl(self, cash, position, order_depths, pnl, product):\n",
    "        order_depth = order_depths[product]\n",
    "        \n",
    "        best_ask = min(order_depth.sell_orders.keys())\n",
    "        best_bid = max(order_depth.buy_orders.keys())\n",
    "        mid = (best_ask + best_bid)/2\n",
    "        fair = mid\n",
    "        if product in self.fair_marks:\n",
    "            get_fair = self.fair_marks[product]\n",
    "            fair = get_fair(order_depth)\n",
    "        \n",
    "        pnl[product] = cash[product] + fair * position[product]"
   ],
   "outputs": [],
   "execution_count": 2
  },
  {
   "cell_type": "markdown",
   "id": "f095ca83",
   "metadata": {},
   "source": "# trader"
  },
  {
   "cell_type": "markdown",
   "id": "b55d0761",
   "metadata": {},
   "source": [
    "# backtest run"
   ]
  },
  {
   "cell_type": "code",
   "id": "6905b4c7",
   "metadata": {
    "ExecuteTime": {
     "end_time": "2025-04-12T08:38:16.292079Z",
     "start_time": "2025-04-12T08:38:16.284386Z"
    }
   },
   "source": [
    "def _process_data_(file):\n",
    "    with open(file, 'r') as file:\n",
    "        log_content = file.read()\n",
    "    sections = log_content.split('Sandbox logs:')[1].split('Activities log:')\n",
    "    sandbox_log =  sections[0].strip()\n",
    "    activities_log = sections[1].split('Trade History:')[0]\n",
    "    # sandbox_log_list = [json.loads(line) for line in sandbox_log.split('\\n')]\n",
    "    trade_history =  json.loads(sections[1].split('Trade History:')[1])\n",
    "    # sandbox_log_df = pd.DataFrame(sandbox_log_list)\n",
    "    market_data_df = pd.read_csv(io.StringIO(activities_log), sep=\";\", header=0)\n",
    "    trade_history_df = pd.json_normalize(trade_history)\n",
    "    return market_data_df, trade_history_df"
   ],
   "outputs": [],
   "execution_count": 4
  },
  {
   "cell_type": "markdown",
   "id": "8b9980db",
   "metadata": {},
   "source": [
    "### setup"
   ]
  },
  {
   "cell_type": "code",
   "id": "8d3a56eb",
   "metadata": {
    "ExecuteTime": {
     "end_time": "2025-04-12T08:38:20.362304Z",
     "start_time": "2025-04-12T08:38:20.355714Z"
    }
   },
   "source": [
    "listings = {\n",
    "    'CROISSANTS': Listing(symbol='CROISSANTS', product='CROISSANTS', denomination='SEASHELLS'),\n",
    "    'JAMS': Listing(symbol='JAMS', product='JAMS', denomination='SEASHELLS'),\n",
    "    'DJEMBES': Listing(symbol='DJEMBES', product='DJEMBES', denomination='SEASHELLS'),\n",
    "    'PICNIC_BASKET2': Listing(symbol='PICNIC_BASKET2', product='PICNIC_BASKET2', denomination='SEASHELLS'),\n",
    "}\n",
    "\n",
    "position_limit = {\n",
    "    'PICNIC_BASKET2': 60,\n",
    "    'CROISSANTS': 250,\n",
    "    'JAMS': 350,\n",
    "    'DJEMBES': 60,\n",
    "}"
   ],
   "outputs": [],
   "execution_count": 5
  },
  {
   "cell_type": "markdown",
   "id": "f1c4f33b",
   "metadata": {},
   "source": "### RUN FROM DATABOTTLE"
  },
  {
   "cell_type": "code",
   "id": "d74be242-5fb9-47a2-b170-b426508aa258",
   "metadata": {
    "ExecuteTime": {
     "end_time": "2025-04-12T08:38:55.279436Z",
     "start_time": "2025-04-12T08:38:32.468049Z"
    }
   },
   "source": [
    "products_to_include = [\"CROISSANTS\", \"JAMS\", \"DJEMBES\", \"PICNIC_BASKET2\"]\n",
    "\n",
    "day = -1\n",
    "market_data = pd.read_csv(f\"./data/prices_round_2_day_{day}.csv\", sep=\";\", header=0)\n",
    "trade_history = pd.read_csv(f\"./data/trades_round_2_day_{day}.csv\", sep=\";\", header=0)\n",
    "\n",
    "market_data = market_data[market_data[\"product\"].isin(products_to_include)].copy()\n",
    "trade_history = trade_history[trade_history[\"symbol\"].isin(products_to_include)].copy()\n",
    "\n",
    "trader = Trader()\n",
    "backtester = Backtester(trader, listings, position_limit, market_data, trade_history, \"trade_history_sim.log\")\n",
    "backtester.run()\n",
    "print(backtester.pnl)"
   ],
   "outputs": [
    {
     "name": "stdout",
     "output_type": "stream",
     "text": [
      "{'CROISSANTS': -9868.5, 'JAMS': -1860.0, 'DJEMBES': 55.0, 'PICNIC_BASKET1': 35896.0}\n"
     ]
    }
   ],
   "execution_count": 6
  },
  {
   "cell_type": "code",
   "id": "892f99a5",
   "metadata": {
    "ExecuteTime": {
     "end_time": "2025-04-12T08:39:52.980722Z",
     "start_time": "2025-04-12T08:38:55.369225Z"
    }
   },
   "source": [
    "for i in range(-1, 2):\n",
    "    products_to_include = [\"CROISSANTS\", \"JAMS\", \"DJEMBES\", \"PICNIC_BASKET2\"]\n",
    "    day = i\n",
    "    market_data = pd.read_csv(f\"./data/prices_round_2_day_{day}.csv\", sep=\";\", header=0)\n",
    "    trade_history = pd.read_csv(f\"./data/trades_round_2_day_{day}.csv\", sep=\";\", header=0)\n",
    "\n",
    "    market_data = market_data[market_data[\"product\"].isin(products_to_include)].copy()\n",
    "    trade_history = trade_history[trade_history[\"symbol\"].isin(products_to_include)].copy()\n",
    "\n",
    "    trader = Trader()\n",
    "    backtester = Backtester(trader, listings, position_limit, market_data, trade_history, f\"clean_logs/trade_history_day_{i}.log\")\n",
    "    backtester.run()\n",
    "    print(backtester.pnl)"
   ],
   "outputs": [
    {
     "name": "stdout",
     "output_type": "stream",
     "text": [
      "{'CROISSANTS': -9868.5, 'JAMS': -1860.0, 'DJEMBES': 55.0, 'PICNIC_BASKET1': 35896.0}\n",
      "{'CROISSANTS': 2304.0, 'JAMS': -3510.0, 'DJEMBES': -614.0, 'PICNIC_BASKET1': 12667.0}\n",
      "{'CROISSANTS': -3612.0, 'JAMS': -6009.0, 'DJEMBES': 4272.0, 'PICNIC_BASKET1': 14042.0}\n"
     ]
    }
   ],
   "execution_count": 7
  },
  {
   "cell_type": "markdown",
   "id": "78f84ee9",
   "metadata": {},
   "source": [
    "# backtest gridsearch"
   ]
  },
  {
   "cell_type": "code",
   "id": "da4a7053",
   "metadata": {
    "ExecuteTime": {
     "end_time": "2025-04-12T08:41:09.414544Z",
     "start_time": "2025-04-12T08:41:09.410003Z"
    }
   },
   "source": [
    "\n",
    "\n",
    "def generate_param_combinations(param_grid):\n",
    "    param_names = param_grid.keys()\n",
    "    param_values = param_grid.values()\n",
    "    combinations = list(itertools.product(*param_values))\n",
    "    return [dict(zip(param_names, combination)) for combination in combinations]"
   ],
   "outputs": [],
   "execution_count": 8
  },
  {
   "cell_type": "code",
   "id": "2710a571",
   "metadata": {
    "ExecuteTime": {
     "end_time": "2025-04-12T08:41:15.383064Z",
     "start_time": "2025-04-12T08:41:15.372550Z"
    }
   },
   "source": [
    "import os\n",
    "\n",
    "\n",
    "def run_backtests(trader, listings, position_limit, market_data, trade_history, backtest_dir, param_grid, symbol):\n",
    "    if not os.path.exists(backtest_dir):\n",
    "        os.makedirs(backtest_dir)\n",
    "\n",
    "    param_combinations = generate_param_combinations(param_grid[symbol])\n",
    "\n",
    "    results = []\n",
    "    for params in tqdm(param_combinations, desc=f\"Running backtests for {symbol}\", unit=\"backtest\"):\n",
    "        trader.params = {symbol: params}\n",
    "        backtester = Backtester(trader, listings, position_limit, fair_calcs, market_data, trade_history)\n",
    "        backtester.run()\n",
    "\n",
    "        param_str = \"-\".join([f\"{key}={value}\" for key, value in params.items()])\n",
    "        log_filename = f\"{backtest_dir}/{symbol}_{param_str}.log\"\n",
    "        backtester._log_trades(log_filename)\n",
    "\n",
    "        results.append((params, backtester.pnl[symbol]))\n",
    "\n",
    "    return results"
   ],
   "outputs": [],
   "execution_count": 9
  },
  {
   "cell_type": "markdown",
   "id": "141f7346",
   "metadata": {},
   "source": [
    "### setup"
   ]
  },
  {
   "cell_type": "code",
   "id": "91eca625",
   "metadata": {
    "ExecuteTime": {
     "end_time": "2025-04-12T08:41:19.276380Z",
     "start_time": "2025-04-12T08:41:19.271709Z"
    }
   },
   "source": [
    "listings = {\n",
    "    'CROISSANTS': Listing(symbol='CROISSANTS', product='CROISSANTS', denomination='SEASHELLS'),\n",
    "    'JAMS': Listing(symbol='JAMS', product='JAMS', denomination='SEASHELLS'),\n",
    "    'DJEMBES': Listing(symbol='DJEMBES', product='DJEMBES', denomination='SEASHELLS'),\n",
    "    'PICNIC_BASKET2': Listing(symbol='PICNIC_BASKET2', product='PICNIC_BASKET2', denomination='SEASHELLS'),\n",
    "}\n",
    "\n",
    "position_limit = {\n",
    "    'PICNIC_BASKET2': 60,\n",
    "    'CROISSANTS': 250,\n",
    "    'JAMS': 350,\n",
    "    'DJEMBES': 60,\n",
    "}"
   ],
   "outputs": [],
   "execution_count": 10
  },
  {
   "cell_type": "code",
   "id": "3bdbcd72",
   "metadata": {
    "ExecuteTime": {
     "end_time": "2025-04-12T08:41:38.111373Z",
     "start_time": "2025-04-12T08:41:37.978257Z"
    }
   },
   "source": [
    "products_to_include = [\"CROISSANTS\", \"JAMS\", \"DJEMBES\", \"PICNIC_BASKET2\"]\n",
    "\n",
    "day = -1\n",
    "market_data = pd.read_csv(f\"./data/prices_round_2_day_{day}.csv\", sep=\";\", header=0)\n",
    "trade_history = pd.read_csv(f\"./data/trades_round_2_day_{day}.csv\", sep=\";\", header=0)\n",
    "\n",
    "market_data = market_data[market_data[\"product\"].isin(products_to_include)].copy()\n",
    "trade_history = trade_history[trade_history[\"symbol\"].isin(products_to_include)].copy()"
   ],
   "outputs": [],
   "execution_count": 12
  },
  {
   "cell_type": "markdown",
   "id": "28aef217",
   "metadata": {},
   "source": [
    "### run"
   ]
  },
  {
   "metadata": {
    "ExecuteTime": {
     "end_time": "2025-04-12T08:38:12.284865Z",
     "start_time": "2025-04-12T08:38:12.223384Z"
    }
   },
   "cell_type": "code",
   "outputs": [],
   "execution_count": 3,
   "source": [
    "from datamodel import OrderDepth, TradingState, Order  # (Assumes these are provided elsewhere)\n",
    "from typing import List, Dict, Any\n",
    "\n",
    "\n",
    "class Product:\n",
    "    PICNIC_BASKET1 = \"PICNIC_BASKET2\"\n",
    "    CROISSANTS = \"CROISSANTS\"\n",
    "    JAMS = \"JAMS\"\n",
    "    DJEMBES = \"DJEMBES\"\n",
    "    SYNTHETIC = \"SYNTHETIC\" # proxy basket\n",
    "    SPREAD = \"SPREAD\" # basket - synthetic\n",
    "\n",
    "\n",
    "PARAMS = {\n",
    "    Product.SPREAD: {\n",
    "        \"default_spread_mean\": 43.922489021349016,\n",
    "        \"default_spread_std\": 82.78475819993702,\n",
    "        \"spread_sma_window\": 1000,\n",
    "        \"spread_std_window\": 40,\n",
    "        \"zscore_threshold\": 7,\n",
    "        \"target_position\": 58,\n",
    "    },\n",
    "}\n",
    "\n",
    "\n",
    "BASKET_WEIGHTS = {\n",
    "    Product.CROISSANTS: 6,\n",
    "    Product.JAMS: 3,\n",
    "    Product.DJEMBES: 1,\n",
    "}\n",
    "\n",
    "class Trader:\n",
    "    def __init__(self, params=None):\n",
    "        if params is None:\n",
    "            params = PARAMS\n",
    "        self.params = params\n",
    "\n",
    "        self.LIMIT = {\n",
    "            Product.PICNIC_BASKET1: 60,\n",
    "            Product.CROISSANTS: 250,\n",
    "            Product.JAMS: 350,\n",
    "            Product.DJEMBES: 60,\n",
    "        }\n",
    "\n",
    "    def get_swmid(self, order_depth: OrderDepth) -> float:\n",
    "        \"\"\"Calculate volume-weighted midprice from an order depth.\"\"\"\n",
    "        best_bid = max(order_depth.buy_orders.keys())\n",
    "        best_ask = min(order_depth.sell_orders.keys())\n",
    "        best_bid_vol = abs(order_depth.buy_orders[best_bid])\n",
    "        best_ask_vol = abs(order_depth.sell_orders[best_ask])\n",
    "        return (best_bid * best_ask_vol + best_ask * best_bid_vol) / (best_bid_vol + best_ask_vol)\n",
    "\n",
    "    def get_synthetic_basket_order_depth(\n",
    "            self, order_depths: Dict[str, OrderDepth]\n",
    "    ) -> OrderDepth:\n",
    "        \"\"\"\n",
    "        Construct a synthetic basket order depth from the component order books.\n",
    "\n",
    "        The synthetic basket is calculated using the weighted prices from:\n",
    "          - CROISSANTS, JAMS, DJEMBES.\n",
    "        \"\"\"\n",
    "        CROISSANTS_PER_BASKET = BASKET_WEIGHTS[Product.CROISSANTS]\n",
    "        JAMS_PER_BASKET = BASKET_WEIGHTS[Product.JAMS]\n",
    "        DJEMBES_PER_BASKET = BASKET_WEIGHTS[Product.DJEMBES]\n",
    "\n",
    "        synthetic_order_depth = OrderDepth()\n",
    "\n",
    "        # Retrieve the best bid and ask from each component\n",
    "        croissants_best_bid = (max(order_depths[Product.CROISSANTS].buy_orders.keys())\n",
    "                              if order_depths[Product.CROISSANTS].buy_orders else 0)\n",
    "        croissants_best_ask = (min(order_depths[Product.CROISSANTS].sell_orders.keys())\n",
    "                              if order_depths[Product.CROISSANTS].sell_orders else float(\"inf\"))\n",
    "        jams_best_bid = (max(order_depths[Product.JAMS].buy_orders.keys())\n",
    "                                 if order_depths[Product.JAMS].buy_orders else 0)\n",
    "        jams_best_ask = (min(order_depths[Product.JAMS].sell_orders.keys())\n",
    "                                 if order_depths[Product.JAMS].sell_orders else float(\"inf\"))\n",
    "        djembes_best_bid = (max(order_depths[Product.DJEMBES].buy_orders.keys())\n",
    "                          if order_depths[Product.DJEMBES].buy_orders else 0)\n",
    "        djembes_best_ask = (min(order_depths[Product.DJEMBES].sell_orders.keys())\n",
    "                          if order_depths[Product.DJEMBES].sell_orders else float(\"inf\"))\n",
    "\n",
    "        # Calculate the synthetic (implied) bid and ask prices\n",
    "        implied_bid = (croissants_best_bid * CROISSANTS_PER_BASKET +\n",
    "                       jams_best_bid * JAMS_PER_BASKET +\n",
    "                       djembes_best_bid * DJEMBES_PER_BASKET)\n",
    "        implied_ask = (croissants_best_ask * CROISSANTS_PER_BASKET +\n",
    "                       jams_best_ask * JAMS_PER_BASKET +\n",
    "                       djembes_best_ask * DJEMBES_PER_BASKET)\n",
    "\n",
    "        # Calculate the volume available for the synthetic basket orders\n",
    "        if implied_bid > 0:\n",
    "            croissants_bid_volume = order_depths[Product.CROISSANTS].buy_orders[croissants_best_bid] // CROISSANTS_PER_BASKET\n",
    "            jams_bid_volume = order_depths[Product.JAMS].buy_orders[jams_best_bid] // JAMS_PER_BASKET\n",
    "            djembes_bid_volume = order_depths[Product.DJEMBES].buy_orders[djembes_best_bid] // DJEMBES_PER_BASKET\n",
    "            implied_bid_volume = min(croissants_bid_volume, jams_bid_volume, djembes_bid_volume)\n",
    "            synthetic_order_depth.buy_orders[implied_bid] = implied_bid_volume\n",
    "\n",
    "        if implied_ask < float(\"inf\"):\n",
    "            croissants_ask_volume = - (order_depths[Product.CROISSANTS].sell_orders[croissants_best_ask] // CROISSANTS_PER_BASKET)\n",
    "            jams_ask_volume = - (order_depths[Product.JAMS].sell_orders[jams_best_ask] // JAMS_PER_BASKET)\n",
    "            djembes_ask_volume = - (order_depths[Product.DJEMBES].sell_orders[djembes_best_ask] // DJEMBES_PER_BASKET)\n",
    "            implied_ask_volume = min(croissants_ask_volume, jams_ask_volume, djembes_ask_volume)\n",
    "            synthetic_order_depth.sell_orders[implied_ask] = -implied_ask_volume\n",
    "\n",
    "        return synthetic_order_depth\n",
    "\n",
    "    def convert_synthetic_basket_orders(\n",
    "            self, synthetic_orders: List[Order], order_depths: Dict[str, OrderDepth]\n",
    "    ) -> Dict[str, List[Order]]:\n",
    "        \"\"\"\n",
    "        Converts orders on the synthetic basket (SYNTHETIC) into orders on each constituent market.\n",
    "\n",
    "        For each synthetic order, if it’s a buy order and the price\n",
    "        is at or above the best ask of the synthetic basket,\n",
    "        the code converts it into orders for CROISSANTS, JAMS, and DJEMBES using the corresponding basket weights.\n",
    "        Similarly for a sell order.\n",
    "        \"\"\"\n",
    "        component_orders = {\n",
    "            Product.CROISSANTS: [],\n",
    "            Product.JAMS: [],\n",
    "            Product.DJEMBES: [],\n",
    "        }\n",
    "        synthetic_basket_order_depth = self.get_synthetic_basket_order_depth(order_depths)\n",
    "        best_bid = (max(synthetic_basket_order_depth.buy_orders.keys())\n",
    "                    if synthetic_basket_order_depth.buy_orders else 0)\n",
    "        best_ask = (min(synthetic_basket_order_depth.sell_orders.keys())\n",
    "                    if synthetic_basket_order_depth.sell_orders else float(\"inf\"))\n",
    "\n",
    "        for order in synthetic_orders:\n",
    "            price = order.price\n",
    "            quantity = order.quantity\n",
    "\n",
    "            if quantity > 0 and price >= best_ask:\n",
    "                # For a synthetic buy order, execute component orders at each component's best ask.\n",
    "                croissants_price = min(order_depths[Product.CROISSANTS].sell_orders.keys())\n",
    "                jams_price = min(order_depths[Product.JAMS].sell_orders.keys())\n",
    "                djembes_price = min(order_depths[Product.DJEMBES].sell_orders.keys())\n",
    "            elif quantity < 0 and price <= best_bid:\n",
    "                # For a synthetic sell order, execute component orders at each component's best bid.\n",
    "                croissants_price = max(order_depths[Product.CROISSANTS].buy_orders.keys())\n",
    "                jams_price = max(order_depths[Product.JAMS].buy_orders.keys())\n",
    "                djembes_price = max(order_depths[Product.DJEMBES].buy_orders.keys())\n",
    "            else:\n",
    "                continue  # Skip orders that don't match the synthetic basket pricing conditions\n",
    "\n",
    "            # Build orders for each component scaled by the basket weights\n",
    "            croissants_order = Order(Product.CROISSANTS, croissants_price, quantity * BASKET_WEIGHTS[Product.CROISSANTS])\n",
    "            jams_order = Order(Product.JAMS, jams_price, quantity * BASKET_WEIGHTS[Product.JAMS])\n",
    "            djembes_order = Order(Product.DJEMBES, djembes_price, quantity * BASKET_WEIGHTS[Product.DJEMBES])\n",
    "\n",
    "            component_orders[Product.CROISSANTS].append(croissants_order)\n",
    "            component_orders[Product.JAMS].append(jams_order)\n",
    "            component_orders[Product.DJEMBES].append(djembes_order)\n",
    "\n",
    "        return component_orders\n",
    "\n",
    "    def execute_spread_orders(\n",
    "            self,\n",
    "            target_position: int,\n",
    "            basket_position: int,\n",
    "            order_depths: Dict[str, OrderDepth],\n",
    "    ):\n",
    "        \"\"\"\n",
    "        Executes spread orders between the actual basket (GIFT_BASKET) and the synthetic basket.\n",
    "\n",
    "        Determines the available volume in the basket order book and in the synthetic basket,\n",
    "        then creates orders on both sides (real basket and converted synthetic orders) to close the position gap.\n",
    "        \"\"\"\n",
    "        if target_position == basket_position:\n",
    "            return None\n",
    "\n",
    "        target_quantity = abs(target_position - basket_position)\n",
    "        basket_order_depth = order_depths[Product.PICNIC_BASKET1]\n",
    "        synthetic_order_depth = self.get_synthetic_basket_order_depth(order_depths)\n",
    "\n",
    "        if target_position > basket_position:\n",
    "            basket_ask_price = min(basket_order_depth.sell_orders.keys())\n",
    "            basket_ask_volume = abs(basket_order_depth.sell_orders[basket_ask_price])\n",
    "            synthetic_bid_price = max(synthetic_order_depth.buy_orders.keys())\n",
    "            synthetic_bid_volume = abs(synthetic_order_depth.buy_orders[synthetic_bid_price])\n",
    "            orderbook_volume = min(basket_ask_volume, synthetic_bid_volume)\n",
    "            execute_volume = min(orderbook_volume, target_quantity)\n",
    "            basket_orders = [Order(Product.PICNIC_BASKET1, basket_ask_price, execute_volume)]\n",
    "            synthetic_orders = [Order(Product.SYNTHETIC, synthetic_bid_price, -execute_volume)]\n",
    "            aggregate_orders = self.convert_synthetic_basket_orders(synthetic_orders, order_depths)\n",
    "            aggregate_orders[Product.PICNIC_BASKET1] = basket_orders\n",
    "            return aggregate_orders\n",
    "        else:\n",
    "            basket_bid_price = max(basket_order_depth.buy_orders.keys())\n",
    "            basket_bid_volume = abs(basket_order_depth.buy_orders[basket_bid_price])\n",
    "            synthetic_ask_price = min(synthetic_order_depth.sell_orders.keys())\n",
    "            synthetic_ask_volume = abs(synthetic_order_depth.sell_orders[synthetic_ask_price])\n",
    "            orderbook_volume = min(basket_bid_volume, synthetic_ask_volume)\n",
    "            execute_volume = min(orderbook_volume, target_quantity)\n",
    "            basket_orders = [Order(Product.PICNIC_BASKET1, basket_bid_price, -execute_volume)]\n",
    "            synthetic_orders = [Order(Product.SYNTHETIC, synthetic_ask_price, execute_volume)]\n",
    "            aggregate_orders = self.convert_synthetic_basket_orders(synthetic_orders, order_depths)\n",
    "            aggregate_orders[Product.PICNIC_BASKET1] = basket_orders\n",
    "            return aggregate_orders\n",
    "\n",
    "    def spread_orders(\n",
    "            self,\n",
    "            order_depths: Dict[str, OrderDepth],\n",
    "            product: Product,\n",
    "            basket_position: int,\n",
    "            spread_data: Dict[str, Any],\n",
    "    ):\n",
    "        \"\"\"\n",
    "        Evaluates if the spread between the midprice of the actual basket and the synthetic basket\n",
    "        (derived from its constituents) is extreme enough to trigger a trade.\n",
    "\n",
    "        It tracks a history of spread values to compute a standard deviation and z-score.\n",
    "        If the z-score exceeds a threshold, the appropriate spread orders are executed.\n",
    "        \"\"\"\n",
    "        if Product.PICNIC_BASKET1 not in order_depths:\n",
    "            return None\n",
    "\n",
    "        basket_order_depth = order_depths[Product.PICNIC_BASKET1]\n",
    "        synthetic_order_depth = self.get_synthetic_basket_order_depth(order_depths)\n",
    "        basket_swmid = self.get_swmid(basket_order_depth)\n",
    "        synthetic_swmid = self.get_swmid(synthetic_order_depth)\n",
    "        spread = basket_swmid - synthetic_swmid\n",
    "        spread_data.setdefault(\"spread_history\", []).append(spread)\n",
    "\n",
    "        # Ensure we have enough history for volatility estimation\n",
    "        window = spread_data.get(\"spread_std_window\", 40)\n",
    "        if len(spread_data[\"spread_history\"]) < window:\n",
    "            return None\n",
    "        elif len(spread_data[\"spread_history\"]) > window:\n",
    "            spread_data[\"spread_history\"].pop(0)\n",
    "\n",
    "        spread_std = np.std(spread_data[\"spread_history\"][-window:])\n",
    "        spread_mean = spread_data.get(\"default_spread_mean\", 43.922489021349016)\n",
    "        zscore = (spread - spread_mean) / spread_std\n",
    "\n",
    "        if zscore >= spread_data.get(\"zscore_threshold\", 7):\n",
    "            if basket_position != -spread_data.get(\"target_position\", 58):\n",
    "                return self.execute_spread_orders(\n",
    "                    -spread_data.get(\"target_position\", 58),\n",
    "                    basket_position,\n",
    "                    order_depths,\n",
    "                )\n",
    "        if zscore <= -spread_data.get(\"zscore_threshold\", 7):\n",
    "            if basket_position != spread_data.get(\"target_position\", 58):\n",
    "                return self.execute_spread_orders(\n",
    "                    spread_data.get(\"target_position\", 58),\n",
    "                    basket_position,\n",
    "                    order_depths,\n",
    "                )\n",
    "\n",
    "        return None\n",
    "\n",
    "    def run(self, state: TradingState):\n",
    "        traderObject = {}\n",
    "        if state.traderData != None and state.traderData != \"\":\n",
    "            traderObject = jsonpickle.decode(state.traderData)\n",
    "\n",
    "        result = {}\n",
    "        conversions = 0\n",
    "\n",
    "        if Product.SPREAD not in traderObject:\n",
    "            traderObject[Product.SPREAD] = {\n",
    "                \"spread_history\": [],\n",
    "                \"prev_zscore\": 0,\n",
    "                \"clear_flag\": False,\n",
    "                \"curr_avg\": 0,\n",
    "            }\n",
    "\n",
    "        basket_position = (\n",
    "            state.position[Product.PICNIC_BASKET1]\n",
    "            if Product.PICNIC_BASKET1 in state.position\n",
    "            else 0\n",
    "        )\n",
    "        spread_orders = self.spread_orders(\n",
    "            state.order_depths,\n",
    "            Product.PICNIC_BASKET1,\n",
    "            basket_position,\n",
    "            traderObject[Product.SPREAD],\n",
    "        )\n",
    "        if spread_orders != None:\n",
    "            result[Product.CROISSANTS] = spread_orders[Product.CROISSANTS]\n",
    "            result[Product.JAMS] = spread_orders[Product.JAMS]\n",
    "            result[Product.DJEMBES] = spread_orders[Product.DJEMBES]\n",
    "            result[Product.PICNIC_BASKET1] = spread_orders[Product.PICNIC_BASKET1]\n",
    "\n",
    "        traderData = jsonpickle.encode(traderObject)\n",
    "\n",
    "        return result, conversions, traderData"
   ],
   "id": "a81be9e51d7695b4"
  },
  {
   "cell_type": "markdown",
   "id": "bd53a5e1",
   "metadata": {},
   "source": [
    "## analyze"
   ]
  },
  {
   "cell_type": "code",
   "id": "a1d25a25",
   "metadata": {
    "ExecuteTime": {
     "end_time": "2025-04-12T08:41:40.124215Z",
     "start_time": "2025-04-12T08:41:40.119464Z"
    }
   },
   "source": [
    "\n",
    "import json\n",
    "import pandas as pd\n",
    "from collections import defaultdict\n",
    "import jsonpickle\n",
    "import numpy as np\n",
    "import io\n",
    "from datamodel import TradingState, Listing, OrderDepth, Trade, Observation"
   ],
   "outputs": [],
   "execution_count": 13
  },
  {
   "cell_type": "code",
   "id": "c82e5863",
   "metadata": {
    "ExecuteTime": {
     "end_time": "2025-04-12T08:44:35.852372Z",
     "start_time": "2025-04-12T08:44:35.848034Z"
    }
   },
   "source": [
    "class Product:\n",
    "    PICNIC_BASKET1 = \"PICNIC_BASKET2\"\n",
    "    CROISSANTS = \"CROISSANTS\"\n",
    "    JAMS = \"JAMS\"\n",
    "    DJEMBES = \"DJEMBES\"\n",
    "    SYNTHETIC = \"SYNTHETIC\" # proxy basket\n",
    "    SPREAD = \"SPREAD\" # basket - synthetic\n",
    "\n",
    "def create_params(sma_window, std_window, zscore_threshold, target_position):\n",
    "    return {\n",
    "        Product.SPREAD:{\n",
    "            \"default_spread_mean\": 56.922489021349016,\n",
    "            \"default_spread_std\": 80.78475819993702,\n",
    "            \"spread_sma_window\": sma_window,\n",
    "            \"spread_std_window\": std_window,\n",
    "            \"zscore_threshold\": zscore_threshold,\n",
    "            \"target_position\": target_position\n",
    "        },\n",
    "    }"
   ],
   "outputs": [],
   "execution_count": 15
  },
  {
   "cell_type": "code",
   "id": "25953e07",
   "metadata": {
    "ExecuteTime": {
     "end_time": "2025-04-12T12:58:06.258292Z",
     "start_time": "2025-04-12T12:50:36.416545Z"
    }
   },
   "source": [
    "from src.opti.backtester import Backtester\n",
    "from r3 import Trader\n",
    "from tqdm import tqdm\n",
    "import itertools\n",
    "\n",
    "def _process_data_(file):\n",
    "    with open(file, 'r') as file:\n",
    "        log_content = file.read()\n",
    "    sections = log_content.split('Sandbox logs:')[1].split('Activities log:')\n",
    "    sandbox_log =  sections[0].strip()\n",
    "    activities_log = sections[1].split('Trade History:')[0]\n",
    "    # sandbox_log_list = [json.loads(line) for line in sandbox_log.split('\\n')]\n",
    "    trade_history =  json.loads(sections[1].split('Trade History:')[1])\n",
    "    # sandbox_log_df = pd.DataFrame(sandbox_log_list)\n",
    "    market_data_df = pd.read_csv(io.StringIO(activities_log), sep=\";\", header=0)\n",
    "    trade_history_df = pd.json_normalize(trade_history)\n",
    "    return market_data_df, trade_history_df\n",
    "\n",
    "listings = {\n",
    "    'CROISSANTS': Listing(symbol='CROISSANTS', product='CROISSANTS', denomination='SEASHELLS'),\n",
    "    'JAMS': Listing(symbol='JAMS', product='JAMS', denomination='SEASHELLS'),\n",
    "    'DJEMBES': Listing(symbol='DJEMBES', product='DJEMBES', denomination='SEASHELLS'),\n",
    "    'PICNIC_BASKET2': Listing(symbol='PICNIC_BASKET2', product='PICNIC_BASKET2', denomination='SEASHELLS'),\n",
    "}\n",
    "\n",
    "position_limit = {\n",
    "    'PICNIC_BASKET2': 60,\n",
    "    'CROISSANTS': 250,\n",
    "    'JAMS': 350,\n",
    "    'DJEMBES': 60,\n",
    "}\n",
    "\n",
    "fair_calculations = {}\n",
    "\n",
    "market_data0, trade_history0 = _process_data_('./clean_logs/trade_history_day_-1.log')\n",
    "market_data1, trade_history1 = _process_data_('./clean_logs/trade_history_day_0.log')\n",
    "market_data2, trade_history2 = _process_data_('./clean_logs/trade_history_day_1.log')\n",
    "market_data = market_data0\n",
    "trade_history = trade_history0\n",
    "\n",
    "sma_windows = [1500]\n",
    "std_windows = [40, 50, 60]\n",
    "zscore_thresholds = [7, 8, 10]\n",
    "target_positions = [40, 50]\n",
    "\n",
    "results = []\n",
    "for sma_window, std_window, zscore_threshold, target_position in tqdm(itertools.product(sma_windows, std_windows, zscore_thresholds, target_positions)):\n",
    "    total_pnl = 0\n",
    "    params = create_params(sma_window, std_window, zscore_threshold, target_position)\n",
    "    trader = Trader(params=params)\n",
    "    backtester = Backtester(trader, listings, position_limit, fair_calculations, market_data, trade_history, \"simple_strat_backtest_no_clear_test_exceed.log\")\n",
    "    backtester.run()\n",
    "    pnl = sum(float(pnl) for pnl in backtester.pnl.values())\n",
    "    total_pnl += pnl\n",
    "\n",
    "    results.append({\n",
    "        \"sma_window\": sma_window,\n",
    "        \"std_window\": std_window,\n",
    "        \"zscore_threshold\": zscore_threshold,\n",
    "        \"target_position\": target_position,\n",
    "        \"pnl\": total_pnl\n",
    "    })\n",
    "    print(\"=\"*80)\n",
    "    print(f\"sma_window: {sma_window}, std_window: {std_window}, zscore_threshold: {zscore_threshold}, target_position: {target_position}, pnl: {total_pnl}\")\n",
    "    print(\"=\"*80)\n",
    "\n",
    "df_results = pd.DataFrame(results)\n",
    "df_results.to_csv(\"optimization_results.csv\", index=False)"
   ],
   "outputs": [
    {
     "name": "stderr",
     "output_type": "stream",
     "text": [
      "1it [00:48, 48.50s/it]"
     ]
    },
    {
     "name": "stdout",
     "output_type": "stream",
     "text": [
      "================================================================================\n",
      "sma_window: 1500, std_window: 40, zscore_threshold: 7, target_position: 40, pnl: 7835.0\n",
      "================================================================================\n"
     ]
    },
    {
     "name": "stderr",
     "output_type": "stream",
     "text": [
      "2it [01:35, 47.38s/it]"
     ]
    },
    {
     "name": "stdout",
     "output_type": "stream",
     "text": [
      "================================================================================\n",
      "sma_window: 1500, std_window: 40, zscore_threshold: 7, target_position: 50, pnl: 13132.0\n",
      "================================================================================\n"
     ]
    },
    {
     "name": "stderr",
     "output_type": "stream",
     "text": [
      "3it [02:23, 47.74s/it]"
     ]
    },
    {
     "name": "stdout",
     "output_type": "stream",
     "text": [
      "================================================================================\n",
      "sma_window: 1500, std_window: 40, zscore_threshold: 8, target_position: 40, pnl: 12562.0\n",
      "================================================================================\n"
     ]
    },
    {
     "name": "stderr",
     "output_type": "stream",
     "text": [
      "4it [03:16, 49.86s/it]"
     ]
    },
    {
     "name": "stdout",
     "output_type": "stream",
     "text": [
      "================================================================================\n",
      "sma_window: 1500, std_window: 40, zscore_threshold: 8, target_position: 50, pnl: 19225.0\n",
      "================================================================================\n"
     ]
    },
    {
     "name": "stderr",
     "output_type": "stream",
     "text": [
      "5it [04:03, 49.04s/it]"
     ]
    },
    {
     "name": "stdout",
     "output_type": "stream",
     "text": [
      "================================================================================\n",
      "sma_window: 1500, std_window: 40, zscore_threshold: 10, target_position: 40, pnl: 19257.0\n",
      "================================================================================\n"
     ]
    },
    {
     "name": "stderr",
     "output_type": "stream",
     "text": [
      "6it [04:51, 48.44s/it]"
     ]
    },
    {
     "name": "stdout",
     "output_type": "stream",
     "text": [
      "================================================================================\n",
      "sma_window: 1500, std_window: 40, zscore_threshold: 10, target_position: 50, pnl: 28091.0\n",
      "================================================================================\n"
     ]
    },
    {
     "name": "stderr",
     "output_type": "stream",
     "text": [
      "7it [05:38, 48.05s/it]"
     ]
    },
    {
     "name": "stdout",
     "output_type": "stream",
     "text": [
      "================================================================================\n",
      "sma_window: 1500, std_window: 50, zscore_threshold: 7, target_position: 40, pnl: 13022.0\n",
      "================================================================================\n"
     ]
    },
    {
     "name": "stderr",
     "output_type": "stream",
     "text": [
      "8it [06:27, 48.32s/it]"
     ]
    },
    {
     "name": "stdout",
     "output_type": "stream",
     "text": [
      "================================================================================\n",
      "sma_window: 1500, std_window: 50, zscore_threshold: 7, target_position: 50, pnl: 20178.0\n",
      "================================================================================\n"
     ]
    },
    {
     "name": "stderr",
     "output_type": "stream",
     "text": [
      "9it [07:18, 49.22s/it]"
     ]
    },
    {
     "name": "stdout",
     "output_type": "stream",
     "text": [
      "================================================================================\n",
      "sma_window: 1500, std_window: 50, zscore_threshold: 8, target_position: 40, pnl: 16788.0\n",
      "================================================================================\n"
     ]
    },
    {
     "name": "stderr",
     "output_type": "stream",
     "text": [
      "9it [07:28, 49.78s/it]\n"
     ]
    },
    {
     "ename": "ValueError",
     "evalue": "not enough values to unpack (expected 2, got 0)",
     "output_type": "error",
     "traceback": [
      "\u001B[0;31m---------------------------------------------------------------------------\u001B[0m",
      "\u001B[0;31mValueError\u001B[0m                                Traceback (most recent call last)",
      "Cell \u001B[0;32mIn[18], line 52\u001B[0m\n\u001B[1;32m     50\u001B[0m trader \u001B[38;5;241m=\u001B[39m Trader(params\u001B[38;5;241m=\u001B[39mparams)\n\u001B[1;32m     51\u001B[0m backtester \u001B[38;5;241m=\u001B[39m Backtester(trader, listings, position_limit, fair_calculations, market_data, trade_history, \u001B[38;5;124m\"\u001B[39m\u001B[38;5;124msimple_strat_backtest_no_clear_test_exceed.log\u001B[39m\u001B[38;5;124m\"\u001B[39m)\n\u001B[0;32m---> 52\u001B[0m \u001B[43mbacktester\u001B[49m\u001B[38;5;241;43m.\u001B[39;49m\u001B[43mrun\u001B[49m\u001B[43m(\u001B[49m\u001B[43m)\u001B[49m\n\u001B[1;32m     53\u001B[0m pnl \u001B[38;5;241m=\u001B[39m \u001B[38;5;28msum\u001B[39m(\u001B[38;5;28mfloat\u001B[39m(pnl) \u001B[38;5;28;01mfor\u001B[39;00m pnl \u001B[38;5;129;01min\u001B[39;00m backtester\u001B[38;5;241m.\u001B[39mpnl\u001B[38;5;241m.\u001B[39mvalues())\n\u001B[1;32m     54\u001B[0m total_pnl \u001B[38;5;241m+\u001B[39m\u001B[38;5;241m=\u001B[39m pnl\n",
      "File \u001B[0;32m~/documents/projects/prosperity-imc-2025/src/subs/round_2/backtester.py:94\u001B[0m, in \u001B[0;36mBacktester.run\u001B[0;34m(self)\u001B[0m\n\u001B[1;32m     92\u001B[0m new_trades \u001B[38;5;241m=\u001B[39m []\n\u001B[1;32m     93\u001B[0m \u001B[38;5;28;01mfor\u001B[39;00m order \u001B[38;5;129;01min\u001B[39;00m orders\u001B[38;5;241m.\u001B[39mget(product, []):\n\u001B[0;32m---> 94\u001B[0m     trades_done, sandboxLog \u001B[38;5;241m=\u001B[39m \u001B[38;5;28mself\u001B[39m\u001B[38;5;241m.\u001B[39m_execute_order(\n\u001B[1;32m     95\u001B[0m         timestamp,\n\u001B[1;32m     96\u001B[0m         order,\n\u001B[1;32m     97\u001B[0m         order_depths_matching,\n\u001B[1;32m     98\u001B[0m         \u001B[38;5;28mself\u001B[39m\u001B[38;5;241m.\u001B[39mcurrent_position,\n\u001B[1;32m     99\u001B[0m         \u001B[38;5;28mself\u001B[39m\u001B[38;5;241m.\u001B[39mcash,\n\u001B[1;32m    100\u001B[0m         trade_history_dict,\n\u001B[1;32m    101\u001B[0m         sandboxLog,\n\u001B[1;32m    102\u001B[0m     )\n\u001B[1;32m    103\u001B[0m     new_trades\u001B[38;5;241m.\u001B[39mextend(trades_done)\n\u001B[1;32m    104\u001B[0m \u001B[38;5;28;01mif\u001B[39;00m \u001B[38;5;28mlen\u001B[39m(new_trades) \u001B[38;5;241m>\u001B[39m \u001B[38;5;241m0\u001B[39m:\n",
      "\u001B[0;31mValueError\u001B[0m: not enough values to unpack (expected 2, got 0)"
     ]
    }
   ],
   "execution_count": 18
  },
  {
   "cell_type": "code",
   "execution_count": null,
   "id": "b34a4c73",
   "metadata": {},
   "outputs": [],
   "source": []
  }
 ],
 "metadata": {
  "kernelspec": {
   "display_name": "Python 3 (ipykernel)",
   "language": "python",
   "name": "python3"
  },
  "language_info": {
   "codemirror_mode": {
    "name": "ipython",
    "version": 3
   },
   "file_extension": ".py",
   "mimetype": "text/x-python",
   "name": "python",
   "nbconvert_exporter": "python",
   "pygments_lexer": "ipython3",
   "version": "3.11.8"
  },
  "toc": {
   "base_numbering": 1,
   "nav_menu": {},
   "number_sections": true,
   "sideBar": true,
   "skip_h1_title": false,
   "title_cell": "Table of Contents",
   "title_sidebar": "Contents",
   "toc_cell": false,
   "toc_position": {},
   "toc_section_display": true,
   "toc_window_display": false
  }
 },
 "nbformat": 4,
 "nbformat_minor": 5
}
