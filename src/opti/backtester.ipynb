{
 "cells": [
  {
   "cell_type": "code",
   "metadata": {
    "ExecuteTime": {
     "end_time": "2025-04-14T08:04:53.115485Z",
     "start_time": "2025-04-14T08:04:53.107936Z"
    }
   },
   "source": [
    "from prosperity3bt.data import read_day_data\n",
    "from prosperity3bt.datamodel import Order\n",
    "from prosperity3bt.file_reader import PackageResourcesReader\n",
    "from prosperity3bt.models import (\n",
    "    ActivityLogRow,\n",
    "    BacktestResult,\n",
    "    MarketTrade,\n",
    "    SandboxLogRow,\n",
    "    TradeMatchingMode,\n",
    "    TradeRow,\n",
    ")\n",
    "from prosperity3bt.runner import run_backtest"
   ],
   "outputs": [],
   "execution_count": 8
  },
  {
   "cell_type": "code",
   "metadata": {
    "ExecuteTime": {
     "end_time": "2025-04-14T08:04:54.082199Z",
     "start_time": "2025-04-14T08:04:54.069346Z"
    }
   },
   "source": [
    "class Trader:\n",
    "    def run(self, state):\n",
    "        orders = {}\n",
    "        conversions = 0\n",
    "        trader_data = \"\"\n",
    "\n",
    "        symbol = \"CROISSANTS\"\n",
    "        limit = 250\n",
    "        \n",
    "        order_depth = state.order_depths[symbol]\n",
    "        price = max(order_depth.buy_orders.keys())\n",
    "\n",
    "        position = state.position.get(symbol, 0)\n",
    "        quantity = limit + position\n",
    "\n",
    "        orders[\"CROISSANTS\"] = [Order(\"CROISSANTS\", price, quantity)]\n",
    "\n",
    "        return orders, conversions, trader_data\n",
    "\n",
    "trader = Trader()"
   ],
   "outputs": [],
   "execution_count": 9
  },
  {
   "cell_type": "code",
   "metadata": {
    "ExecuteTime": {
     "end_time": "2025-04-14T08:04:59.398747Z",
     "start_time": "2025-04-14T08:04:54.882791Z"
    }
   },
   "source": [
    "file_reader = PackageResourcesReader()\n",
    "data = read_day_data(file_reader, round_num=2, day_num=1, no_names=True)\n",
    "\n",
    "result = run_backtest(trader, file_reader, round_num=2, day_num=1, print_output=False, trade_matching_mode=TradeMatchingMode.all, no_names=True, show_progress_bar=True)\n",
    "result.activity_logs[-10:]"
   ],
   "outputs": [
    {
     "name": "stderr",
     "output_type": "stream",
     "text": [
      "100%|##########| 10000/10000 [00:01<00:00, 7170.91it/s]\n"
     ]
    },
    {
     "data": {
      "text/plain": [
       "[ActivityLogRow(columns=[1, 999800, 'RAINFOREST_RESIN', 9992, 30, '', '', '', '', 10008, 30, '', '', '', '', 10000.0, 0.0]),\n",
       " ActivityLogRow(columns=[1, 999800, 'SQUID_INK', 1881, 24, '', '', '', '', 1883, 8, 1884, 24, '', '', 1882.0, 0.0]),\n",
       " ActivityLogRow(columns=[1, 999900, 'CROISSANTS', 4266, 119, '', '', '', '', 4267, 44, 4268, 75, '', '', 4266.5, -39.0]),\n",
       " ActivityLogRow(columns=[1, 999900, 'DJEMBES', 13419, 70, '', '', '', '', 13420, 70, '', '', '', '', 13419.5, 0.0]),\n",
       " ActivityLogRow(columns=[1, 999900, 'JAMS', 6519, 204, '', '', '', '', 6521, 204, '', '', '', '', 6520.0, 0.0]),\n",
       " ActivityLogRow(columns=[1, 999900, 'KELP', 2053, 20, '', '', '', '', 2057, 20, '', '', '', '', 2055.0, 0.0]),\n",
       " ActivityLogRow(columns=[1, 999900, 'PICNIC_BASKET1', 58713, 15, 58712, 21, '', '', 58724, 15, 58725, 21, '', '', 58718.5, 0.0]),\n",
       " ActivityLogRow(columns=[1, 999900, 'PICNIC_BASKET2', 30100, 36, '', '', '', '', 30107, 36, '', '', '', '', 30103.5, 0.0]),\n",
       " ActivityLogRow(columns=[1, 999900, 'RAINFOREST_RESIN', 9992, 34, '', '', '', '', 10008, 34, '', '', '', '', 10000.0, 0.0]),\n",
       " ActivityLogRow(columns=[1, 999900, 'SQUID_INK', 1880, 20, '', '', '', '', 1884, 20, '', '', '', '', 1882.0, 0.0])]"
      ]
     },
     "execution_count": 10,
     "metadata": {},
     "output_type": "execute_result"
    }
   ],
   "execution_count": 10
  },
  {
   "metadata": {},
   "cell_type": "code",
   "outputs": [],
   "execution_count": null,
   "source": ""
  }
 ],
 "metadata": {
  "kernelspec": {
   "display_name": "imc-prosperity-2",
   "language": "python",
   "name": "python3"
  },
  "language_info": {
   "codemirror_mode": {
    "name": "ipython",
    "version": 3
   },
   "file_extension": ".py",
   "mimetype": "text/x-python",
   "name": "python",
   "nbconvert_exporter": "python",
   "pygments_lexer": "ipython3",
   "version": "3.12.2"
  }
 },
 "nbformat": 4,
 "nbformat_minor": 2
}
