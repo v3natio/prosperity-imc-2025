{
 "cells": [
  {
   "cell_type": "markdown",
   "id": "9ba96ec3",
   "metadata": {},
   "source": [
    "# imports/setup"
   ]
  },
  {
   "cell_type": "code",
   "id": "f51d0f2e-b498-485c-acf4-eea427479f01",
   "metadata": {
    "ExecuteTime": {
     "end_time": "2025-04-11T20:39:08.547534Z",
     "start_time": "2025-04-11T20:39:08.541986Z"
    }
   },
   "source": [
    "import datetime\n",
    "import json\n",
    "import pandas as pd\n",
    "from collections import defaultdict\n",
    "from typing import List, Dict, Any\n",
    "import string\n",
    "import jsonpickle\n",
    "import numpy as np\n",
    "import math\n",
    "import io\n",
    "from datamodel import Listing, ConversionObservation\n",
    "from datamodel import TradingState, Listing, OrderDepth, Trade, Observation"
   ],
   "outputs": [],
   "execution_count": 79
  },
  {
   "cell_type": "markdown",
   "id": "f80bc1c3",
   "metadata": {},
   "source": [
    "# backtester"
   ]
  },
  {
   "cell_type": "code",
   "id": "ea89d5f7",
   "metadata": {
    "ExecuteTime": {
     "end_time": "2025-04-11T20:39:08.634740Z",
     "start_time": "2025-04-11T20:39:08.591127Z"
    }
   },
   "source": [
    "class Backtester:\n",
    "    def __init__(self, trader, listings: Dict[str, Listing], position_limit: Dict[str, int],\n",
    "                 market_data: pd.DataFrame, trade_history: pd.DataFrame, file_name: str = None):\n",
    "        self.trader = trader\n",
    "        self.listings = listings\n",
    "        self.market_data = market_data\n",
    "        self.position_limit = position_limit\n",
    "        self.fair_marks = {}\n",
    "        self.trade_history = trade_history.sort_values(by=['timestamp', 'symbol'])\n",
    "        self.file_name = file_name\n",
    "\n",
    "        self.observations = [Observation({}, {}) for _ in range(len(market_data))]\n",
    "\n",
    "        self.current_position = {product: 0 for product in self.listings.keys()}\n",
    "        self.pnl_history = []\n",
    "        self.pnl = {product: 0 for product in self.listings.keys()}\n",
    "        self.cash = {product: 0 for product in self.listings.keys()}\n",
    "        self.trades = []\n",
    "        self.sandbox_logs = []\n",
    "        \n",
    "    def run(self):\n",
    "        traderData = \"\"\n",
    "        \n",
    "        timestamp_group_md = self.market_data.groupby('timestamp')\n",
    "        timestamp_group_th = self.trade_history.groupby('timestamp')\n",
    "        \n",
    "        own_trades = defaultdict(list)\n",
    "        market_trades = defaultdict(list)\n",
    "        pnl_product = defaultdict(float)\n",
    "        \n",
    "        trade_history_dict = {}\n",
    "        \n",
    "        for timestamp, group in timestamp_group_th:\n",
    "            trades = []\n",
    "            for _, row in group.iterrows():\n",
    "                symbol = row['symbol']\n",
    "                price = row['price']\n",
    "                quantity = row['quantity']\n",
    "                buyer = row['buyer'] if pd.notnull(row['buyer']) else \"\"\n",
    "                seller = row['seller'] if pd.notnull(row['seller']) else \"\"\n",
    "\n",
    "                \n",
    "                trade = Trade(symbol, int(price), int(quantity), buyer, seller, timestamp)\n",
    "                \n",
    "                trades.append(trade)\n",
    "            trade_history_dict[timestamp] = trades\n",
    "        \n",
    "        \n",
    "        for timestamp, group in timestamp_group_md:\n",
    "            order_depths = self._construct_order_depths(group)\n",
    "            order_depths_matching = self._construct_order_depths(group)\n",
    "            order_depths_pnl = self._construct_order_depths(group)\n",
    "            state = self._construct_trading_state(traderData, timestamp, self.listings, order_depths, \n",
    "                                 dict(own_trades), dict(market_trades), self.current_position, self.observations)\n",
    "            orders, conversions, traderData = self.trader.run(state)\n",
    "            products = group['product'].tolist()\n",
    "            sandboxLog = \"\"\n",
    "            trades_at_timestamp = trade_history_dict.get(timestamp, [])\n",
    "\n",
    "            for product in products:\n",
    "                new_trades = []\n",
    "                for order in orders.get(product, []):\n",
    "                    trades_done, sandboxLog = self._execute_order(timestamp, order, order_depths_matching, self.current_position, self.cash, trade_history_dict, sandboxLog)\n",
    "                    new_trades.extend(trades_done)\n",
    "                if len(new_trades) > 0:\n",
    "                    own_trades[product] = new_trades\n",
    "            self.sandbox_logs.append({\"sandboxLog\": sandboxLog, \"lambdaLog\": \"\", \"timestamp\": timestamp})\n",
    "\n",
    "            trades_at_timestamp = trade_history_dict.get(timestamp, [])\n",
    "            if trades_at_timestamp:\n",
    "                for trade in trades_at_timestamp:\n",
    "                    product = trade.symbol\n",
    "                    market_trades[product].append(trade)\n",
    "            else: \n",
    "                for product in products:\n",
    "                    market_trades[product] = []\n",
    "\n",
    "            \n",
    "            for product in products:\n",
    "                self._mark_pnl(self.cash, self.current_position, order_depths_pnl, self.pnl, product)\n",
    "                self.pnl_history.append(self.pnl[product])\n",
    "            self._add_trades(own_trades, market_trades)\n",
    "        return self._log_trades(self.file_name)\n",
    "    \n",
    "    \n",
    "    def _log_trades(self, filename: str = None):\n",
    "        if filename is None:\n",
    "            return \n",
    "\n",
    "        self.market_data['profit_and_loss'] = self.pnl_history\n",
    "\n",
    "        output = \"\"\n",
    "        output += \"Sandbox logs:\\n\"\n",
    "        for i in self.sandbox_logs:\n",
    "            output += json.dumps(i, indent=2) + \"\\n\"\n",
    "\n",
    "        output += \"\\n\\n\\n\\nActivities log:\\n\"\n",
    "        market_data_csv = self.market_data.to_csv(index=False, sep=\";\")\n",
    "        market_data_csv = market_data_csv.replace(\"\\r\\n\", \"\\n\")\n",
    "        output += market_data_csv\n",
    "\n",
    "        output += \"\\n\\n\\n\\nTrade History:\\n\"\n",
    "        output += json.dumps(self.trades, indent=2)\n",
    "\n",
    "        with open(filename, 'w') as file:\n",
    "            file.write(output)\n",
    "\n",
    "            \n",
    "    def _add_trades(self, own_trades: Dict[str, List[Trade]], market_trades: Dict[str, List[Trade]]):\n",
    "        products = set(own_trades.keys()) | set(market_trades.keys())\n",
    "        for product in products:\n",
    "            self.trades.extend([self._trade_to_dict(trade) for trade in own_trades.get(product, [])])\n",
    "        for product in products:\n",
    "            self.trades.extend([self._trade_to_dict(trade) for trade in market_trades.get(product, [])])\n",
    "\n",
    "    def _trade_to_dict(self, trade: Trade) -> dict[str, Any]:\n",
    "        return {\n",
    "            \"timestamp\": trade.timestamp,\n",
    "            \"buyer\": trade.buyer,\n",
    "            \"seller\": trade.seller,\n",
    "            \"symbol\": trade.symbol,\n",
    "            \"currency\": \"SEASHELLS\",\n",
    "            \"price\": trade.price,\n",
    "            \"quantity\": trade.quantity,\n",
    "        }\n",
    "        \n",
    "    def _construct_trading_state(self, traderData, timestamp, listings, order_depths, \n",
    "                                 own_trades, market_trades, position, observations):\n",
    "        state = TradingState(traderData, timestamp, listings, order_depths, \n",
    "                             own_trades, market_trades, position, observations)\n",
    "        return state\n",
    "    \n",
    "        \n",
    "    def _construct_order_depths(self, group):\n",
    "        order_depths = {}\n",
    "        for idx, row in group.iterrows():\n",
    "            product = row['product']\n",
    "            order_depth = OrderDepth()\n",
    "            for i in range(1, 4):\n",
    "                if f'bid_price_{i}' in row and f'bid_volume_{i}' in row:\n",
    "                    bid_price = row[f'bid_price_{i}']\n",
    "                    bid_volume = row[f'bid_volume_{i}']\n",
    "                    if not pd.isna(bid_price) and not pd.isna(bid_volume):\n",
    "                        order_depth.buy_orders[int(bid_price)] = int(bid_volume)\n",
    "                if f'ask_price_{i}' in row and f'ask_volume_{i}' in row:\n",
    "                    ask_price = row[f'ask_price_{i}']\n",
    "                    ask_volume = row[f'ask_volume_{i}']\n",
    "                    if not pd.isna(ask_price) and not pd.isna(ask_volume):\n",
    "                        order_depth.sell_orders[int(ask_price)] = -int(ask_volume)\n",
    "            order_depths[product] = order_depth\n",
    "        return order_depths\n",
    "    \n",
    "        \n",
    "        \n",
    "    def _execute_buy_order(self, timestamp, order, order_depths, position, cash, trade_history_dict, sandboxLog):\n",
    "        trades = []\n",
    "        order_depth = order_depths[order.symbol]\n",
    "\n",
    "        for price, volume in list(order_depth.sell_orders.items()):\n",
    "            if price > order.price or order.quantity == 0:\n",
    "                break\n",
    "\n",
    "            trade_volume = min(abs(order.quantity), abs(volume))\n",
    "            if abs(trade_volume + position[order.symbol]) <= int(self.position_limit[order.symbol]):\n",
    "                trades.append(Trade(order.symbol, price, trade_volume, \"SUBMISSION\", \"\", timestamp))\n",
    "                position[order.symbol] += trade_volume\n",
    "                self.cash[order.symbol] -= price * trade_volume\n",
    "                order_depth.sell_orders[price] += trade_volume\n",
    "                order.quantity -= trade_volume\n",
    "            else:\n",
    "                sandboxLog += f\"\\nOrders for product {order.symbol} exceeded limit of {self.position_limit[order.symbol]} set\"\n",
    "            \n",
    "\n",
    "            if order_depth.sell_orders[price] == 0:\n",
    "                del order_depth.sell_orders[price]\n",
    "        \n",
    "        trades_at_timestamp = trade_history_dict.get(timestamp, [])\n",
    "        new_trades_at_timestamp = []\n",
    "        for trade in trades_at_timestamp:\n",
    "            if trade.symbol == order.symbol:\n",
    "                if trade.price < order.price:\n",
    "                    trade_volume = min(abs(order.quantity), abs(trade.quantity))\n",
    "                    trades.append(Trade(order.symbol, order.price, trade_volume, \"SUBMISSION\", \"\", timestamp))\n",
    "                    order.quantity -= trade_volume\n",
    "                    position[order.symbol] += trade_volume\n",
    "                    self.cash[order.symbol] -= order.price * trade_volume\n",
    "                    if trade_volume == abs(trade.quantity):\n",
    "                        continue\n",
    "                    else:\n",
    "                        new_quantity = trade.quantity - trade_volume\n",
    "                        new_trades_at_timestamp.append(Trade(order.symbol, order.price, new_quantity, \"\", \"\", timestamp))\n",
    "                        continue\n",
    "            new_trades_at_timestamp.append(trade)  \n",
    "\n",
    "        if len(new_trades_at_timestamp) > 0:\n",
    "            trade_history_dict[timestamp] = new_trades_at_timestamp\n",
    "\n",
    "        return trades, sandboxLog\n",
    "        \n",
    "        \n",
    "        \n",
    "    def _execute_sell_order(self, timestamp, order, order_depths, position, cash, trade_history_dict, sandboxLog):\n",
    "        trades = []\n",
    "        order_depth = order_depths[order.symbol]\n",
    "        \n",
    "        for price, volume in sorted(order_depth.buy_orders.items(), reverse=True):\n",
    "            if price < order.price or order.quantity == 0:\n",
    "                break\n",
    "\n",
    "            trade_volume = min(abs(order.quantity), abs(volume))\n",
    "            if abs(position[order.symbol] - trade_volume) <= int(self.position_limit[order.symbol]):\n",
    "                trades.append(Trade(order.symbol, price, trade_volume, \"\", \"SUBMISSION\", timestamp))\n",
    "                position[order.symbol] -= trade_volume\n",
    "                self.cash[order.symbol] += price * abs(trade_volume)\n",
    "                order_depth.buy_orders[price] -= abs(trade_volume)\n",
    "                order.quantity += trade_volume\n",
    "            else:\n",
    "                sandboxLog += f\"\\nOrders for product {order.symbol} exceeded limit of {self.position_limit[order.symbol]} set\"\n",
    "\n",
    "            if order_depth.buy_orders[price] == 0:\n",
    "                del order_depth.buy_orders[price]\n",
    "\n",
    "        trades_at_timestamp = trade_history_dict.get(timestamp, [])\n",
    "        new_trades_at_timestamp = []\n",
    "        for trade in trades_at_timestamp:\n",
    "            if trade.symbol == order.symbol:\n",
    "                if trade.price > order.price:\n",
    "                    trade_volume = min(abs(order.quantity), abs(trade.quantity))\n",
    "                    trades.append(Trade(order.symbol, order.price, trade_volume, \"\", \"SUBMISSION\", timestamp))\n",
    "                    order.quantity += trade_volume\n",
    "                    position[order.symbol] -= trade_volume\n",
    "                    self.cash[order.symbol] += order.price * trade_volume\n",
    "                    if trade_volume == abs(trade.quantity):\n",
    "                        continue\n",
    "                    else:\n",
    "                        new_quantity = trade.quantity - trade_volume\n",
    "                        new_trades_at_timestamp.append(Trade(order.symbol, order.price, new_quantity, \"\", \"\", timestamp))\n",
    "                        continue\n",
    "            new_trades_at_timestamp.append(trade)  \n",
    "\n",
    "        if len(new_trades_at_timestamp) > 0:\n",
    "            trade_history_dict[timestamp] = new_trades_at_timestamp\n",
    "                \n",
    "        return trades, sandboxLog\n",
    "        \n",
    "        \n",
    "        \n",
    "    def _execute_order(self, timestamp, order, order_depths, position, cash, trades_at_timestamp, sandboxLog):\n",
    "        if order.quantity == 0:\n",
    "            return [], sandboxLog\n",
    "        \n",
    "        order_depth = order_depths[order.symbol]\n",
    "        if order.quantity > 0:\n",
    "            return self._execute_buy_order(timestamp, order, order_depths, position, cash, trades_at_timestamp, sandboxLog)\n",
    "        else:\n",
    "            return self._execute_sell_order(timestamp, order, order_depths, position, cash, trades_at_timestamp, sandboxLog)\n",
    "    \n",
    "    def _mark_pnl(self, cash, position, order_depths, pnl, product):\n",
    "        order_depth = order_depths[product]\n",
    "        \n",
    "        best_ask = min(order_depth.sell_orders.keys())\n",
    "        best_bid = max(order_depth.buy_orders.keys())\n",
    "        mid = (best_ask + best_bid)/2\n",
    "        fair = mid\n",
    "        if product in self.fair_marks:\n",
    "            get_fair = self.fair_marks[product]\n",
    "            fair = get_fair(order_depth)\n",
    "        \n",
    "        pnl[product] = cash[product] + fair * position[product]"
   ],
   "outputs": [],
   "execution_count": 80
  },
  {
   "cell_type": "markdown",
   "id": "f095ca83",
   "metadata": {},
   "source": [
    "# trader"
   ]
  },
  {
   "metadata": {
    "ExecuteTime": {
     "end_time": "2025-04-11T20:39:08.686644Z",
     "start_time": "2025-04-11T20:39:08.651272Z"
    }
   },
   "cell_type": "code",
   "source": [
    "from datamodel import OrderDepth, UserId, TradingState, Order, ConversionObservation  # (Assumes these are provided elsewhere)\n",
    "from typing import List, Dict, Any\n",
    "import numpy as np\n",
    "\n",
    "class Product:\n",
    "    PICNIC_BASKET1 = \"PICNIC_BASKET1\"\n",
    "    CROISSANTS = \"CROISSANTS\"\n",
    "    JAMS = \"JAMS\"\n",
    "    DJEMBES = \"DJEMBES\"\n",
    "    SYNTHETIC = \"SYNTHETIC\" # proxy basket\n",
    "    SPREAD = \"SPREAD\" # basket - synthetic\n",
    "\n",
    "\n",
    "PARAMS = {\n",
    "    Product.SPREAD: {\n",
    "        \"default_spread_mean\": -11266.87863022058,\n",
    "        \"default_spread_std\": 85.77238165355097,\n",
    "        \"spread_sma_window\": 1500,\n",
    "        \"spread_std_window\": 45,\n",
    "        \"zscore_threshold\": 7,\n",
    "        \"target_position\": 58,\n",
    "    },\n",
    "}\n",
    "\n",
    "\n",
    "BASKET_WEIGHTS = {\n",
    "    Product.CROISSANTS: 6,\n",
    "    Product.JAMS: 3,\n",
    "    Product.DJEMBES: 1,\n",
    "}\n",
    "\n",
    "class Trader:\n",
    "    def __init__(self, params=None):\n",
    "        if params is None:\n",
    "            params = PARAMS\n",
    "        self.params = params\n",
    "\n",
    "        self.LIMIT = {\n",
    "            Product.PICNIC_BASKET1: 60,\n",
    "            Product.CROISSANTS: 250,\n",
    "            Product.JAMS: 350,\n",
    "            Product.DJEMBES: 60,\n",
    "        }\n",
    "\n",
    "    def get_swmid(self, order_depth: OrderDepth) -> float:\n",
    "        \"\"\"Calculate volume-weighted midprice from an order depth.\"\"\"\n",
    "        best_bid = max(order_depth.buy_orders.keys())\n",
    "        best_ask = min(order_depth.sell_orders.keys())\n",
    "        best_bid_vol = abs(order_depth.buy_orders[best_bid])\n",
    "        best_ask_vol = abs(order_depth.sell_orders[best_ask])\n",
    "        return (best_bid * best_ask_vol + best_ask * best_bid_vol) / (best_bid_vol + best_ask_vol)\n",
    "\n",
    "    def get_synthetic_basket_order_depth(\n",
    "            self, order_depths: Dict[str, OrderDepth]\n",
    "    ) -> OrderDepth:\n",
    "        \"\"\"\n",
    "        Construct a synthetic basket order depth from the component order books.\n",
    "\n",
    "        The synthetic basket is calculated using the weighted prices from:\n",
    "          - CROISSANTS, JAMS, DJEMBES.\n",
    "        \"\"\"\n",
    "        CROISSANTS_PER_BASKET = BASKET_WEIGHTS[Product.CROISSANTS]\n",
    "        JAMS_PER_BASKET = BASKET_WEIGHTS[Product.JAMS]\n",
    "        DJEMBES_PER_BASKET = BASKET_WEIGHTS[Product.DJEMBES]\n",
    "\n",
    "        synthetic_order_depth = OrderDepth()\n",
    "\n",
    "        # Retrieve the best bid and ask from each component\n",
    "        croissants_best_bid = (max(order_depths[Product.CROISSANTS].buy_orders.keys())\n",
    "                              if order_depths[Product.CROISSANTS].buy_orders else 0)\n",
    "        croissants_best_ask = (min(order_depths[Product.CROISSANTS].sell_orders.keys())\n",
    "                              if order_depths[Product.CROISSANTS].sell_orders else float(\"inf\"))\n",
    "        jams_best_bid = (max(order_depths[Product.JAMS].buy_orders.keys())\n",
    "                                 if order_depths[Product.JAMS].buy_orders else 0)\n",
    "        jams_best_ask = (min(order_depths[Product.JAMS].sell_orders.keys())\n",
    "                                 if order_depths[Product.JAMS].sell_orders else float(\"inf\"))\n",
    "        djembes_best_bid = (max(order_depths[Product.DJEMBES].buy_orders.keys())\n",
    "                          if order_depths[Product.DJEMBES].buy_orders else 0)\n",
    "        djembes_best_ask = (min(order_depths[Product.DJEMBES].sell_orders.keys())\n",
    "                          if order_depths[Product.DJEMBES].sell_orders else float(\"inf\"))\n",
    "\n",
    "        # Calculate the synthetic (implied) bid and ask prices\n",
    "        implied_bid = (croissants_best_bid * CROISSANTS_PER_BASKET +\n",
    "                       jams_best_bid * JAMS_PER_BASKET +\n",
    "                       djembes_best_bid * DJEMBES_PER_BASKET)\n",
    "        implied_ask = (croissants_best_ask * CROISSANTS_PER_BASKET +\n",
    "                       jams_best_ask * JAMS_PER_BASKET +\n",
    "                       djembes_best_ask * DJEMBES_PER_BASKET)\n",
    "\n",
    "        # Calculate the volume available for the synthetic basket orders\n",
    "        if implied_bid > 0:\n",
    "            croissants_bid_volume = order_depths[Product.CROISSANTS].buy_orders[croissants_best_bid] // CROISSANTS_PER_BASKET\n",
    "            jams_bid_volume = order_depths[Product.JAMS].buy_orders[jams_best_bid] // JAMS_PER_BASKET\n",
    "            djembes_bid_volume = order_depths[Product.DJEMBES].buy_orders[djembes_best_bid] // DJEMBES_PER_BASKET\n",
    "            implied_bid_volume = min(croissants_bid_volume, jams_bid_volume, djembes_bid_volume)\n",
    "            synthetic_order_depth.buy_orders[implied_bid] = implied_bid_volume\n",
    "\n",
    "        if implied_ask < float(\"inf\"):\n",
    "            croissants_ask_volume = - (order_depths[Product.CROISSANTS].sell_orders[croissants_best_ask] // CROISSANTS_PER_BASKET)\n",
    "            jams_ask_volume = - (order_depths[Product.JAMS].sell_orders[jams_best_ask] // JAMS_PER_BASKET)\n",
    "            djembes_ask_volume = - (order_depths[Product.DJEMBES].sell_orders[djembes_best_ask] // DJEMBES_PER_BASKET)\n",
    "            implied_ask_volume = min(croissants_ask_volume, jams_ask_volume, djembes_ask_volume)\n",
    "            synthetic_order_depth.sell_orders[implied_ask] = -implied_ask_volume\n",
    "\n",
    "        return synthetic_order_depth\n",
    "\n",
    "    def convert_synthetic_basket_orders(\n",
    "            self, synthetic_orders: List[Order], order_depths: Dict[str, OrderDepth]\n",
    "    ) -> Dict[str, List[Order]]:\n",
    "        \"\"\"\n",
    "        Converts orders on the synthetic basket (SYNTHETIC) into orders on each constituent market.\n",
    "\n",
    "        For each synthetic order, if it’s a buy order and the price\n",
    "        is at or above the best ask of the synthetic basket,\n",
    "        the code converts it into orders for CROISSANTS, JAMS, and DJEMBES using the corresponding basket weights.\n",
    "        Similarly for a sell order.\n",
    "        \"\"\"\n",
    "        component_orders = {\n",
    "            Product.CROISSANTS: [],\n",
    "            Product.JAMS: [],\n",
    "            Product.DJEMBES: [],\n",
    "        }\n",
    "        synthetic_basket_order_depth = self.get_synthetic_basket_order_depth(order_depths)\n",
    "        best_bid = (max(synthetic_basket_order_depth.buy_orders.keys())\n",
    "                    if synthetic_basket_order_depth.buy_orders else 0)\n",
    "        best_ask = (min(synthetic_basket_order_depth.sell_orders.keys())\n",
    "                    if synthetic_basket_order_depth.sell_orders else float(\"inf\"))\n",
    "\n",
    "        for order in synthetic_orders:\n",
    "            price = order.price\n",
    "            quantity = order.quantity\n",
    "\n",
    "            if quantity > 0 and price >= best_ask:\n",
    "                # For a synthetic buy order, execute component orders at each component's best ask.\n",
    "                croissants_price = min(order_depths[Product.CROISSANTS].sell_orders.keys())\n",
    "                jams_price = min(order_depths[Product.JAMS].sell_orders.keys())\n",
    "                djembes_price = min(order_depths[Product.DJEMBES].sell_orders.keys())\n",
    "            elif quantity < 0 and price <= best_bid:\n",
    "                # For a synthetic sell order, execute component orders at each component's best bid.\n",
    "                croissants_price = max(order_depths[Product.CROISSANTS].buy_orders.keys())\n",
    "                jams_price = max(order_depths[Product.JAMS].buy_orders.keys())\n",
    "                djembes_price = max(order_depths[Product.DJEMBES].buy_orders.keys())\n",
    "            else:\n",
    "                continue  # Skip orders that don't match the synthetic basket pricing conditions\n",
    "\n",
    "            # Build orders for each component scaled by the basket weights\n",
    "            croissants_order = Order(Product.CROISSANTS, croissants_price, quantity * BASKET_WEIGHTS[Product.CROISSANTS])\n",
    "            jams_order = Order(Product.JAMS, jams_price, quantity * BASKET_WEIGHTS[Product.JAMS])\n",
    "            djembes_order = Order(Product.DJEMBES, djembes_price, quantity * BASKET_WEIGHTS[Product.DJEMBES])\n",
    "\n",
    "            component_orders[Product.CROISSANTS].append(croissants_order)\n",
    "            component_orders[Product.JAMS].append(jams_order)\n",
    "            component_orders[Product.DJEMBES].append(djembes_order)\n",
    "\n",
    "        return component_orders\n",
    "\n",
    "    def execute_spread_orders(\n",
    "            self,\n",
    "            target_position: int,\n",
    "            basket_position: int,\n",
    "            order_depths: Dict[str, OrderDepth],\n",
    "    ):\n",
    "        \"\"\"\n",
    "        Executes spread orders between the actual basket (GIFT_BASKET) and the synthetic basket.\n",
    "\n",
    "        Determines the available volume in the basket order book and in the synthetic basket,\n",
    "        then creates orders on both sides (real basket and converted synthetic orders) to close the position gap.\n",
    "        \"\"\"\n",
    "        if target_position == basket_position:\n",
    "            return None\n",
    "\n",
    "        target_quantity = abs(target_position - basket_position)\n",
    "        basket_order_depth = order_depths[Product.PICNIC_BASKET1]\n",
    "        synthetic_order_depth = self.get_synthetic_basket_order_depth(order_depths)\n",
    "\n",
    "        if target_position > basket_position:\n",
    "            basket_ask_price = min(basket_order_depth.sell_orders.keys())\n",
    "            basket_ask_volume = abs(basket_order_depth.sell_orders[basket_ask_price])\n",
    "            synthetic_bid_price = max(synthetic_order_depth.buy_orders.keys())\n",
    "            synthetic_bid_volume = abs(synthetic_order_depth.buy_orders[synthetic_bid_price])\n",
    "            orderbook_volume = min(basket_ask_volume, synthetic_bid_volume)\n",
    "            execute_volume = min(orderbook_volume, target_quantity)\n",
    "            basket_orders = [Order(Product.PICNIC_BASKET1, basket_ask_price, execute_volume)]\n",
    "            synthetic_orders = [Order(Product.SYNTHETIC, synthetic_bid_price, -execute_volume)]\n",
    "            aggregate_orders = self.convert_synthetic_basket_orders(synthetic_orders, order_depths)\n",
    "            aggregate_orders[Product.PICNIC_BASKET1] = basket_orders\n",
    "            return aggregate_orders\n",
    "        else:\n",
    "            basket_bid_price = max(basket_order_depth.buy_orders.keys())\n",
    "            basket_bid_volume = abs(basket_order_depth.buy_orders[basket_bid_price])\n",
    "            synthetic_ask_price = min(synthetic_order_depth.sell_orders.keys())\n",
    "            synthetic_ask_volume = abs(synthetic_order_depth.sell_orders[synthetic_ask_price])\n",
    "            orderbook_volume = min(basket_bid_volume, synthetic_ask_volume)\n",
    "            execute_volume = min(orderbook_volume, target_quantity)\n",
    "            basket_orders = [Order(Product.PICNIC_BASKET1, basket_bid_price, -execute_volume)]\n",
    "            synthetic_orders = [Order(Product.SYNTHETIC, synthetic_ask_price, execute_volume)]\n",
    "            aggregate_orders = self.convert_synthetic_basket_orders(synthetic_orders, order_depths)\n",
    "            aggregate_orders[Product.PICNIC_BASKET1] = basket_orders\n",
    "            return aggregate_orders\n",
    "\n",
    "    def spread_orders(\n",
    "            self,\n",
    "            order_depths: Dict[str, OrderDepth],\n",
    "            product: Product,\n",
    "            basket_position: int,\n",
    "            spread_data: Dict[str, Any],\n",
    "    ):\n",
    "        \"\"\"\n",
    "        Evaluates if the spread between the midprice of the actual basket and the synthetic basket\n",
    "        (derived from its constituents) is extreme enough to trigger a trade.\n",
    "\n",
    "        It tracks a history of spread values to compute a standard deviation and z-score.\n",
    "        If the z-score exceeds a threshold, the appropriate spread orders are executed.\n",
    "        \"\"\"\n",
    "        if Product.PICNIC_BASKET1 not in order_depths:\n",
    "            return None\n",
    "\n",
    "        basket_order_depth = order_depths[Product.PICNIC_BASKET1]\n",
    "        synthetic_order_depth = self.get_synthetic_basket_order_depth(order_depths)\n",
    "        basket_swmid = self.get_swmid(basket_order_depth)\n",
    "        synthetic_swmid = self.get_swmid(synthetic_order_depth)\n",
    "        spread = basket_swmid - synthetic_swmid\n",
    "        spread_data.setdefault(\"spread_history\", []).append(spread)\n",
    "\n",
    "        # Ensure we have enough history for volatility estimation\n",
    "        window = spread_data.get(\"spread_std_window\", 45)\n",
    "        if len(spread_data[\"spread_history\"]) < window:\n",
    "            return None\n",
    "        elif len(spread_data[\"spread_history\"]) > window:\n",
    "            spread_data[\"spread_history\"].pop(0)\n",
    "\n",
    "        spread_std = np.std(spread_data[\"spread_history\"][-window:])\n",
    "        spread_mean = spread_data.get(\"default_spread_mean\", -11266.87863022058)\n",
    "        zscore = (spread - spread_mean) / spread_std\n",
    "\n",
    "        if zscore >= spread_data.get(\"zscore_threshold\", 7):\n",
    "            if basket_position != -spread_data.get(\"target_position\", 58):\n",
    "                return self.execute_spread_orders(\n",
    "                    -spread_data.get(\"target_position\", 58),\n",
    "                    basket_position,\n",
    "                    order_depths,\n",
    "                )\n",
    "        if zscore <= -spread_data.get(\"zscore_threshold\", 7):\n",
    "            if basket_position != spread_data.get(\"target_position\", 58):\n",
    "                return self.execute_spread_orders(\n",
    "                    spread_data.get(\"target_position\", 58),\n",
    "                    basket_position,\n",
    "                    order_depths,\n",
    "                )\n",
    "\n",
    "        return None\n",
    "\n",
    "    def run(self, state: TradingState):\n",
    "        traderObject = {}\n",
    "        if state.traderData != None and state.traderData != \"\":\n",
    "            traderObject = jsonpickle.decode(state.traderData)\n",
    "\n",
    "        result = {}\n",
    "        conversions = 0\n",
    "\n",
    "        if Product.SPREAD not in traderObject:\n",
    "            traderObject[Product.SPREAD] = {\n",
    "                \"spread_history\": [],\n",
    "                \"prev_zscore\": 0,\n",
    "                \"clear_flag\": False,\n",
    "                \"curr_avg\": 0,\n",
    "            }\n",
    "\n",
    "        basket_position = (\n",
    "            state.position[Product.PICNIC_BASKET1]\n",
    "            if Product.PICNIC_BASKET1 in state.position\n",
    "            else 0\n",
    "        )\n",
    "        spread_orders = self.spread_orders(\n",
    "            state.order_depths,\n",
    "            Product.PICNIC_BASKET1,\n",
    "            basket_position,\n",
    "            traderObject[Product.SPREAD],\n",
    "        )\n",
    "        if spread_orders != None:\n",
    "            result[Product.CROISSANTS] = spread_orders[Product.CROISSANTS]\n",
    "            result[Product.JAMS] = spread_orders[Product.JAMS]\n",
    "            result[Product.DJEMBES] = spread_orders[Product.DJEMBES]\n",
    "            result[Product.PICNIC_BASKET1] = spread_orders[Product.PICNIC_BASKET1]\n",
    "\n",
    "        traderData = jsonpickle.encode(traderObject)\n",
    "\n",
    "        return result, conversions, traderData"
   ],
   "id": "a81be9e51d7695b4",
   "outputs": [],
   "execution_count": 81
  },
  {
   "cell_type": "markdown",
   "id": "b55d0761",
   "metadata": {},
   "source": [
    "# backtest run"
   ]
  },
  {
   "cell_type": "code",
   "id": "6905b4c7",
   "metadata": {
    "ExecuteTime": {
     "end_time": "2025-04-11T20:39:08.709615Z",
     "start_time": "2025-04-11T20:39:08.703464Z"
    }
   },
   "source": [
    "def _process_data_(file):\n",
    "    with open(file, 'r') as file:\n",
    "        log_content = file.read()\n",
    "    sections = log_content.split('Sandbox logs:')[1].split('Activities log:')\n",
    "    sandbox_log =  sections[0].strip()\n",
    "    activities_log = sections[1].split('Trade History:')[0]\n",
    "    # sandbox_log_list = [json.loads(line) for line in sandbox_log.split('\\n')]\n",
    "    trade_history =  json.loads(sections[1].split('Trade History:')[1])\n",
    "    # sandbox_log_df = pd.DataFrame(sandbox_log_list)\n",
    "    market_data_df = pd.read_csv(io.StringIO(activities_log), sep=\";\", header=0)\n",
    "    trade_history_df = pd.json_normalize(trade_history)\n",
    "    return market_data_df, trade_history_df"
   ],
   "outputs": [],
   "execution_count": 82
  },
  {
   "cell_type": "markdown",
   "id": "8b9980db",
   "metadata": {},
   "source": [
    "### setup"
   ]
  },
  {
   "cell_type": "code",
   "id": "8d3a56eb",
   "metadata": {
    "ExecuteTime": {
     "end_time": "2025-04-11T20:39:08.751439Z",
     "start_time": "2025-04-11T20:39:08.746332Z"
    }
   },
   "source": [
    "listings = {\n",
    "    'CROISSANTS': Listing(symbol='CROISSANTS', product='CROISSANTS', denomination='SEASHELLS'),\n",
    "    'JAMS': Listing(symbol='JAMS', product='JAMS', denomination='SEASHELLS'),\n",
    "    'DJEMBES': Listing(symbol='DJEMBES', product='DJEMBES', denomination='SEASHELLS'),\n",
    "    'PICNIC_BASKET1': Listing(symbol='PICNIC_BASKET1', product='PICNIC_BASKET1', denomination='SEASHELLS'),\n",
    "}\n",
    "\n",
    "position_limit = {\n",
    "    'PICNIC_BASKET1': 60,\n",
    "    'CROISSANTS': 250,\n",
    "    'JAMS': 350,\n",
    "    'DJEMBES': 60,\n",
    "}"
   ],
   "outputs": [],
   "execution_count": 83
  },
  {
   "cell_type": "markdown",
   "id": "f1c4f33b",
   "metadata": {},
   "source": "### RUN FROM DATABOTTLE"
  },
  {
   "cell_type": "code",
   "id": "d74be242-5fb9-47a2-b170-b426508aa258",
   "metadata": {
    "ExecuteTime": {
     "end_time": "2025-04-11T20:39:28.820177Z",
     "start_time": "2025-04-11T20:39:08.799427Z"
    }
   },
   "source": [
    "products_to_include = [\"CROISSANTS\", \"JAMS\", \"DJEMBES\", \"PICNIC_BASKET1\"]\n",
    "\n",
    "day = 0\n",
    "market_data = pd.read_csv(f\"./data/prices_round_2_day_{day}.csv\", sep=\";\", header=0)\n",
    "trade_history = pd.read_csv(f\"./data/trades_round_2_day_{day}.csv\", sep=\";\", header=0)\n",
    "\n",
    "market_data = market_data[market_data[\"product\"].isin(products_to_include)].copy()\n",
    "trade_history = trade_history[trade_history[\"symbol\"].isin(products_to_include)].copy()\n",
    "\n",
    "trader = Trader()\n",
    "backtester = Backtester(trader, listings, position_limit, market_data, trade_history, \"trade_history_sim.log\")\n",
    "backtester.run()\n",
    "print(backtester.pnl)"
   ],
   "outputs": [
    {
     "name": "stdout",
     "output_type": "stream",
     "text": [
      "{'CROISSANTS': -10966.0, 'JAMS': -16182.0, 'DJEMBES': -4681.0, 'PICNIC_BASKET1': 29534.0}\n"
     ]
    }
   ],
   "execution_count": 84
  },
  {
   "cell_type": "code",
   "id": "892f99a5",
   "metadata": {
    "ExecuteTime": {
     "end_time": "2025-04-11T20:42:31.215456Z",
     "start_time": "2025-04-11T20:41:28.909812Z"
    }
   },
   "source": [
    "for i in range(-1, 2):\n",
    "    products_to_include = [\"CROISSANTS\", \"JAMS\", \"DJEMBES\", \"PICNIC_BASKET1\"]\n",
    "    day = i\n",
    "    market_data = pd.read_csv(f\"./data/prices_round_2_day_{day}.csv\", sep=\";\", header=0)\n",
    "    trade_history = pd.read_csv(f\"./data/trades_round_2_day_{day}.csv\", sep=\";\", header=0)\n",
    "\n",
    "    market_data = market_data[market_data[\"product\"].isin(products_to_include)].copy()\n",
    "    trade_history = trade_history[trade_history[\"symbol\"].isin(products_to_include)].copy()\n",
    "\n",
    "    trader = Trader()\n",
    "    backtester = Backtester(trader, listings, position_limit, market_data, trade_history, f\"clean_logs/trade_history_day_{i}.log\")\n",
    "    backtester.run()\n",
    "    print(backtester.pnl)"
   ],
   "outputs": [
    {
     "name": "stdout",
     "output_type": "stream",
     "text": [
      "{'CROISSANTS': 3616.0, 'JAMS': -6474.0, 'DJEMBES': 2744.0, 'PICNIC_BASKET1': 2872.0}\n",
      "{'CROISSANTS': -10966.0, 'JAMS': -16182.0, 'DJEMBES': -4681.0, 'PICNIC_BASKET1': 29534.0}\n",
      "{'CROISSANTS': -1662.0, 'JAMS': -4170.0, 'DJEMBES': 174.0, 'PICNIC_BASKET1': -2823.0}\n"
     ]
    }
   ],
   "execution_count": 86
  },
  {
   "cell_type": "markdown",
   "id": "78f84ee9",
   "metadata": {},
   "source": [
    "# backtest gridsearch"
   ]
  },
  {
   "cell_type": "code",
   "id": "da4a7053",
   "metadata": {
    "ExecuteTime": {
     "end_time": "2025-04-11T20:42:31.272205Z",
     "start_time": "2025-04-11T20:42:31.266512Z"
    }
   },
   "source": [
    "import itertools\n",
    "\n",
    "def generate_param_combinations(param_grid):\n",
    "    param_names = param_grid.keys()\n",
    "    param_values = param_grid.values()\n",
    "    combinations = list(itertools.product(*param_values))\n",
    "    return [dict(zip(param_names, combination)) for combination in combinations]"
   ],
   "outputs": [],
   "execution_count": 87
  },
  {
   "cell_type": "code",
   "id": "2710a571",
   "metadata": {
    "ExecuteTime": {
     "end_time": "2025-04-11T20:42:31.361265Z",
     "start_time": "2025-04-11T20:42:31.354951Z"
    }
   },
   "source": [
    "import os\n",
    "from tqdm import tqdm\n",
    "\n",
    "def run_backtests(trader, listings, position_limit, market_data, trade_history, backtest_dir, param_grid, symbol):\n",
    "    if not os.path.exists(backtest_dir):\n",
    "        os.makedirs(backtest_dir)\n",
    "\n",
    "    param_combinations = generate_param_combinations(param_grid[symbol])\n",
    "\n",
    "    results = []\n",
    "    for params in tqdm(param_combinations, desc=f\"Running backtests for {symbol}\", unit=\"backtest\"):\n",
    "        trader.params = {symbol: params}\n",
    "        backtester = Backtester(trader, listings, position_limit, fair_calcs, market_data, trade_history)\n",
    "        backtester.run()\n",
    "\n",
    "        param_str = \"-\".join([f\"{key}={value}\" for key, value in params.items()])\n",
    "        log_filename = f\"{backtest_dir}/{symbol}_{param_str}.log\"\n",
    "        backtester._log_trades(log_filename)\n",
    "\n",
    "        results.append((params, backtester.pnl[symbol]))\n",
    "\n",
    "    return results"
   ],
   "outputs": [],
   "execution_count": 88
  },
  {
   "cell_type": "markdown",
   "id": "141f7346",
   "metadata": {},
   "source": [
    "### setup"
   ]
  },
  {
   "cell_type": "code",
   "id": "91eca625",
   "metadata": {
    "ExecuteTime": {
     "end_time": "2025-04-11T20:42:31.402195Z",
     "start_time": "2025-04-11T20:42:31.396806Z"
    }
   },
   "source": [
    "listings = {\n",
    "    'CROISSANTS': Listing(symbol='CROISSANTS', product='CROISSANTS', denomination='SEASHELLS'),\n",
    "    'JAMS': Listing(symbol='JAMS', product='JAMS', denomination='SEASHELLS'),\n",
    "    'DJEMBES': Listing(symbol='DJEMBES', product='DJEMBES', denomination='SEASHELLS'),\n",
    "    'PICNIC_BASKET1': Listing(symbol='PICNIC_BASKET1', product='PICNIC_BASKET1', denomination='SEASHELLS'),\n",
    "}\n",
    "\n",
    "position_limit = {\n",
    "    'PICNIC_BASKET1': 60,\n",
    "    'CROISSANTS': 250,\n",
    "    'JAMS': 350,\n",
    "    'DJEMBES': 60,\n",
    "}"
   ],
   "outputs": [],
   "execution_count": 89
  },
  {
   "cell_type": "code",
   "id": "3bdbcd72",
   "metadata": {
    "ExecuteTime": {
     "end_time": "2025-04-11T20:42:31.523101Z",
     "start_time": "2025-04-11T20:42:31.448775Z"
    }
   },
   "source": [
    "products_to_include = [\"CROISSANTS\", \"JAMS\", \"DJEMBES\", \"PICNIC_BASKET1\"]\n",
    "\n",
    "day = 0\n",
    "market_data = pd.read_csv(f\"./data/prices_round_2_day_{day}.csv\", sep=\";\", header=0)\n",
    "trade_history = pd.read_csv(f\"./data/trades_round_2_day_{day}.csv\", sep=\";\", header=0)\n",
    "\n",
    "market_data = market_data[market_data[\"product\"].isin(products_to_include)].copy()\n",
    "trade_history = trade_history[trade_history[\"symbol\"].isin(products_to_include)].copy()\n",
    "\n"
   ],
   "outputs": [],
   "execution_count": 90
  },
  {
   "cell_type": "markdown",
   "id": "28aef217",
   "metadata": {},
   "source": [
    "### run"
   ]
  },
  {
   "cell_type": "markdown",
   "id": "bd53a5e1",
   "metadata": {},
   "source": [
    "## analyze"
   ]
  },
  {
   "cell_type": "code",
   "id": "a1d25a25",
   "metadata": {
    "ExecuteTime": {
     "end_time": "2025-04-11T20:42:31.539898Z",
     "start_time": "2025-04-11T20:42:31.536609Z"
    }
   },
   "source": [
    "import datetime\n",
    "import json\n",
    "import pandas as pd\n",
    "from collections import defaultdict\n",
    "from typing import List, Dict, Any\n",
    "import string\n",
    "import jsonpickle\n",
    "import numpy as np\n",
    "import math\n",
    "import io\n",
    "from datamodel import Listing, ConversionObservation\n",
    "from datamodel import TradingState, Listing, OrderDepth, Trade, Observation"
   ],
   "outputs": [],
   "execution_count": 91
  },
  {
   "cell_type": "code",
   "id": "c82e5863",
   "metadata": {
    "ExecuteTime": {
     "end_time": "2025-04-11T20:42:31.584526Z",
     "start_time": "2025-04-11T20:42:31.580171Z"
    }
   },
   "source": [
    "class Product:\n",
    "    PICNIC_BASKET1 = \"PICNIC_BASKET1\"\n",
    "    CROISSANTS = \"CROISSANTS\"\n",
    "    JAMS = \"JAMS\"\n",
    "    DJEMBES = \"DJEMBES\"\n",
    "    SYNTHETIC = \"SYNTHETIC\" # proxy basket\n",
    "    SPREAD = \"SPREAD\" # basket - synthetic\n",
    "\n",
    "def create_params(sma_window, std_window, zscore_threshold, target_position):\n",
    "    return {\n",
    "        Product.SPREAD:{\n",
    "            \"default_spread_mean\": -11266.87863022058,\n",
    "            \"default_spread_std\": 85.77238165355097,\n",
    "            \"spread_sma_window\": sma_window,\n",
    "            \"spread_std_window\": std_window,\n",
    "            \"zscore_threshold\": zscore_threshold,\n",
    "            \"target_position\": target_position\n",
    "        },\n",
    "    }"
   ],
   "outputs": [],
   "execution_count": 92
  },
  {
   "cell_type": "code",
   "id": "25953e07",
   "metadata": {
    "ExecuteTime": {
     "end_time": "2025-04-11T22:38:59.093540Z",
     "start_time": "2025-04-11T20:55:23.169573Z"
    }
   },
   "source": [
    "from backtester import Backtester\n",
    "from r3 import Trader\n",
    "from tqdm import tqdm\n",
    "import itertools\n",
    "\n",
    "def _process_data_(file):\n",
    "    with open(file, 'r') as file:\n",
    "        log_content = file.read()\n",
    "    sections = log_content.split('Sandbox logs:')[1].split('Activities log:')\n",
    "    sandbox_log =  sections[0].strip()\n",
    "    activities_log = sections[1].split('Trade History:')[0]\n",
    "    # sandbox_log_list = [json.loads(line) for line in sandbox_log.split('\\n')]\n",
    "    trade_history =  json.loads(sections[1].split('Trade History:')[1])\n",
    "    # sandbox_log_df = pd.DataFrame(sandbox_log_list)\n",
    "    market_data_df = pd.read_csv(io.StringIO(activities_log), sep=\";\", header=0)\n",
    "    trade_history_df = pd.json_normalize(trade_history)\n",
    "    return market_data_df, trade_history_df\n",
    "\n",
    "listings = {\n",
    "    'CROISSANTS': Listing(symbol='CROISSANTS', product='CROISSANTS', denomination='SEASHELLS'),\n",
    "    'JAMS': Listing(symbol='JAMS', product='JAMS', denomination='SEASHELLS'),\n",
    "    'DJEMBES': Listing(symbol='DJEMBES', product='DJEMBES', denomination='SEASHELLS'),\n",
    "    'PICNIC_BASKET1': Listing(symbol='PICNIC_BASKET1', product='PICNIC_BASKET1', denomination='SEASHELLS'),\n",
    "}\n",
    "\n",
    "position_limit = {\n",
    "    'PICNIC_BASKET1': 60,\n",
    "    'CROISSANTS': 250,\n",
    "    'JAMS': 350,\n",
    "    'DJEMBES': 60,\n",
    "}\n",
    "\n",
    "fair_calculations = {}\n",
    "\n",
    "market_data0, trade_history0 = _process_data_('./clean_logs/trade_history_day_-1.log')\n",
    "market_data1, trade_history1 = _process_data_('./clean_logs/trade_history_day_0.log')\n",
    "market_data2, trade_history2 = _process_data_('./clean_logs/trade_history_day_1.log')\n",
    "market_data = market_data0\n",
    "trade_history = trade_history0\n",
    "\n",
    "sma_windows = [500, 1000, 1500]\n",
    "std_windows = [30, 40, 50, 60]\n",
    "zscore_thresholds = [5, 6, 7, 8, 9, 10]\n",
    "target_positions = [20, 40, 60]\n",
    "\n",
    "\n",
    "for sma_window, std_window, zscore_threshold, target_position in tqdm(itertools.product(sma_windows, std_windows, zscore_thresholds, target_positions)):\n",
    "    total_pnl = 0\n",
    "    params = create_params(sma_window, std_window, zscore_threshold, target_position)\n",
    "    trader = Trader(params=params)\n",
    "    backtester = Backtester(trader, listings, position_limit, fair_calculations, market_data, trade_history, \"simple_strat_backtest_no_clear_test_exceed.log\")\n",
    "    backtester.run()\n",
    "    pnl = sum(float(pnl) for pnl in backtester.pnl.values())\n",
    "    total_pnl += pnl\n",
    "    print(f\"sma_window: {sma_window}, std_window: {std_window}, zscore_threshold: {zscore_threshold}, target_position: {target_position}, pnl: {total_pnl}\")\n",
    "    print(\"=\"*80)"
   ],
   "outputs": [
    {
     "name": "stderr",
     "output_type": "stream",
     "text": [
      "1it [00:33, 33.90s/it]"
     ]
    },
    {
     "name": "stdout",
     "output_type": "stream",
     "text": [
      "sma_window: 500, std_window: 30, zscore_threshold: 5, target_position: 20, pnl: 1109.0\n",
      "================================================================================\n"
     ]
    },
    {
     "name": "stderr",
     "output_type": "stream",
     "text": [
      "2it [01:08, 34.07s/it]"
     ]
    },
    {
     "name": "stdout",
     "output_type": "stream",
     "text": [
      "sma_window: 500, std_window: 30, zscore_threshold: 5, target_position: 40, pnl: 3609.0\n",
      "================================================================================\n"
     ]
    },
    {
     "name": "stderr",
     "output_type": "stream",
     "text": [
      "3it [01:42, 34.37s/it]"
     ]
    },
    {
     "name": "stdout",
     "output_type": "stream",
     "text": [
      "sma_window: 500, std_window: 30, zscore_threshold: 5, target_position: 60, pnl: 5959.0\n",
      "================================================================================\n"
     ]
    },
    {
     "name": "stderr",
     "output_type": "stream",
     "text": [
      "4it [02:16, 34.23s/it]"
     ]
    },
    {
     "name": "stdout",
     "output_type": "stream",
     "text": [
      "sma_window: 500, std_window: 30, zscore_threshold: 6, target_position: 20, pnl: 2829.0\n",
      "================================================================================\n"
     ]
    },
    {
     "name": "stderr",
     "output_type": "stream",
     "text": [
      "5it [02:52, 34.63s/it]"
     ]
    },
    {
     "name": "stdout",
     "output_type": "stream",
     "text": [
      "sma_window: 500, std_window: 30, zscore_threshold: 6, target_position: 40, pnl: 6712.0\n",
      "================================================================================\n"
     ]
    },
    {
     "name": "stderr",
     "output_type": "stream",
     "text": [
      "6it [03:26, 34.49s/it]"
     ]
    },
    {
     "name": "stdout",
     "output_type": "stream",
     "text": [
      "sma_window: 500, std_window: 30, zscore_threshold: 6, target_position: 60, pnl: 11549.0\n",
      "================================================================================\n"
     ]
    },
    {
     "name": "stderr",
     "output_type": "stream",
     "text": [
      "7it [04:00, 34.47s/it]"
     ]
    },
    {
     "name": "stdout",
     "output_type": "stream",
     "text": [
      "sma_window: 500, std_window: 30, zscore_threshold: 7, target_position: 20, pnl: 4367.0\n",
      "================================================================================\n"
     ]
    },
    {
     "name": "stderr",
     "output_type": "stream",
     "text": [
      "8it [04:35, 34.41s/it]"
     ]
    },
    {
     "name": "stdout",
     "output_type": "stream",
     "text": [
      "sma_window: 500, std_window: 30, zscore_threshold: 7, target_position: 40, pnl: 8902.0\n",
      "================================================================================\n"
     ]
    },
    {
     "name": "stderr",
     "output_type": "stream",
     "text": [
      "9it [05:08, 34.14s/it]"
     ]
    },
    {
     "name": "stdout",
     "output_type": "stream",
     "text": [
      "sma_window: 500, std_window: 30, zscore_threshold: 7, target_position: 60, pnl: 15845.0\n",
      "================================================================================\n"
     ]
    },
    {
     "name": "stderr",
     "output_type": "stream",
     "text": [
      "10it [05:40, 33.51s/it]"
     ]
    },
    {
     "name": "stdout",
     "output_type": "stream",
     "text": [
      "sma_window: 500, std_window: 30, zscore_threshold: 8, target_position: 20, pnl: 4805.0\n",
      "================================================================================\n"
     ]
    },
    {
     "name": "stderr",
     "output_type": "stream",
     "text": [
      "11it [06:12, 33.10s/it]"
     ]
    },
    {
     "name": "stdout",
     "output_type": "stream",
     "text": [
      "sma_window: 500, std_window: 30, zscore_threshold: 8, target_position: 40, pnl: 8663.0\n",
      "================================================================================\n"
     ]
    },
    {
     "name": "stderr",
     "output_type": "stream",
     "text": [
      "12it [06:47, 33.50s/it]"
     ]
    },
    {
     "name": "stdout",
     "output_type": "stream",
     "text": [
      "sma_window: 500, std_window: 30, zscore_threshold: 8, target_position: 60, pnl: 15743.0\n",
      "================================================================================\n"
     ]
    },
    {
     "name": "stderr",
     "output_type": "stream",
     "text": [
      "13it [07:21, 33.82s/it]"
     ]
    },
    {
     "name": "stdout",
     "output_type": "stream",
     "text": [
      "sma_window: 500, std_window: 30, zscore_threshold: 9, target_position: 20, pnl: 2889.0\n",
      "================================================================================\n"
     ]
    },
    {
     "name": "stderr",
     "output_type": "stream",
     "text": [
      "14it [07:56, 34.03s/it]"
     ]
    },
    {
     "name": "stdout",
     "output_type": "stream",
     "text": [
      "sma_window: 500, std_window: 30, zscore_threshold: 9, target_position: 40, pnl: 5385.0\n",
      "================================================================================\n"
     ]
    },
    {
     "name": "stderr",
     "output_type": "stream",
     "text": [
      "15it [08:31, 34.26s/it]"
     ]
    },
    {
     "name": "stdout",
     "output_type": "stream",
     "text": [
      "sma_window: 500, std_window: 30, zscore_threshold: 9, target_position: 60, pnl: 9342.0\n",
      "================================================================================\n"
     ]
    },
    {
     "name": "stderr",
     "output_type": "stream",
     "text": [
      "16it [09:05, 34.27s/it]"
     ]
    },
    {
     "name": "stdout",
     "output_type": "stream",
     "text": [
      "sma_window: 500, std_window: 30, zscore_threshold: 10, target_position: 20, pnl: 2334.0\n",
      "================================================================================\n"
     ]
    },
    {
     "name": "stderr",
     "output_type": "stream",
     "text": [
      "17it [09:40, 34.38s/it]"
     ]
    },
    {
     "name": "stdout",
     "output_type": "stream",
     "text": [
      "sma_window: 500, std_window: 30, zscore_threshold: 10, target_position: 40, pnl: 3152.0\n",
      "================================================================================\n"
     ]
    },
    {
     "name": "stderr",
     "output_type": "stream",
     "text": [
      "18it [10:15, 34.69s/it]"
     ]
    },
    {
     "name": "stdout",
     "output_type": "stream",
     "text": [
      "sma_window: 500, std_window: 30, zscore_threshold: 10, target_position: 60, pnl: 1805.0\n",
      "================================================================================\n"
     ]
    },
    {
     "name": "stderr",
     "output_type": "stream",
     "text": [
      "19it [10:48, 34.20s/it]"
     ]
    },
    {
     "name": "stdout",
     "output_type": "stream",
     "text": [
      "sma_window: 500, std_window: 40, zscore_threshold: 5, target_position: 20, pnl: 1874.0\n",
      "================================================================================\n"
     ]
    },
    {
     "name": "stderr",
     "output_type": "stream",
     "text": [
      "20it [11:20, 33.40s/it]"
     ]
    },
    {
     "name": "stdout",
     "output_type": "stream",
     "text": [
      "sma_window: 500, std_window: 40, zscore_threshold: 5, target_position: 40, pnl: 3851.0\n",
      "================================================================================\n"
     ]
    },
    {
     "name": "stderr",
     "output_type": "stream",
     "text": [
      "21it [11:53, 33.50s/it]"
     ]
    },
    {
     "name": "stdout",
     "output_type": "stream",
     "text": [
      "sma_window: 500, std_window: 40, zscore_threshold: 5, target_position: 60, pnl: 7289.0\n",
      "================================================================================\n"
     ]
    },
    {
     "name": "stderr",
     "output_type": "stream",
     "text": [
      "22it [12:28, 33.71s/it]"
     ]
    },
    {
     "name": "stdout",
     "output_type": "stream",
     "text": [
      "sma_window: 500, std_window: 40, zscore_threshold: 6, target_position: 20, pnl: 3333.0\n",
      "================================================================================\n"
     ]
    },
    {
     "name": "stderr",
     "output_type": "stream",
     "text": [
      "23it [13:02, 33.91s/it]"
     ]
    },
    {
     "name": "stdout",
     "output_type": "stream",
     "text": [
      "sma_window: 500, std_window: 40, zscore_threshold: 6, target_position: 40, pnl: 6076.0\n",
      "================================================================================\n"
     ]
    },
    {
     "name": "stderr",
     "output_type": "stream",
     "text": [
      "24it [13:37, 34.10s/it]"
     ]
    },
    {
     "name": "stdout",
     "output_type": "stream",
     "text": [
      "sma_window: 500, std_window: 40, zscore_threshold: 6, target_position: 60, pnl: 11267.0\n",
      "================================================================================\n"
     ]
    },
    {
     "name": "stderr",
     "output_type": "stream",
     "text": [
      "25it [14:11, 34.10s/it]"
     ]
    },
    {
     "name": "stdout",
     "output_type": "stream",
     "text": [
      "sma_window: 500, std_window: 40, zscore_threshold: 7, target_position: 20, pnl: 3595.0\n",
      "================================================================================\n"
     ]
    },
    {
     "name": "stderr",
     "output_type": "stream",
     "text": [
      "26it [14:45, 34.23s/it]"
     ]
    },
    {
     "name": "stdout",
     "output_type": "stream",
     "text": [
      "sma_window: 500, std_window: 40, zscore_threshold: 7, target_position: 40, pnl: 7990.0\n",
      "================================================================================\n"
     ]
    },
    {
     "name": "stderr",
     "output_type": "stream",
     "text": [
      "27it [15:19, 34.20s/it]"
     ]
    },
    {
     "name": "stdout",
     "output_type": "stream",
     "text": [
      "sma_window: 500, std_window: 40, zscore_threshold: 7, target_position: 60, pnl: 16049.0\n",
      "================================================================================\n"
     ]
    },
    {
     "name": "stderr",
     "output_type": "stream",
     "text": [
      "28it [15:54, 34.36s/it]"
     ]
    },
    {
     "name": "stdout",
     "output_type": "stream",
     "text": [
      "sma_window: 500, std_window: 40, zscore_threshold: 8, target_position: 20, pnl: 3748.0\n",
      "================================================================================\n"
     ]
    },
    {
     "name": "stderr",
     "output_type": "stream",
     "text": [
      "29it [16:31, 35.08s/it]"
     ]
    },
    {
     "name": "stdout",
     "output_type": "stream",
     "text": [
      "sma_window: 500, std_window: 40, zscore_threshold: 8, target_position: 40, pnl: 6069.0\n",
      "================================================================================\n"
     ]
    },
    {
     "name": "stderr",
     "output_type": "stream",
     "text": [
      "30it [17:05, 34.85s/it]"
     ]
    },
    {
     "name": "stdout",
     "output_type": "stream",
     "text": [
      "sma_window: 500, std_window: 40, zscore_threshold: 8, target_position: 60, pnl: 4963.0\n",
      "================================================================================\n"
     ]
    },
    {
     "name": "stderr",
     "output_type": "stream",
     "text": [
      "31it [17:38, 34.28s/it]"
     ]
    },
    {
     "name": "stdout",
     "output_type": "stream",
     "text": [
      "sma_window: 500, std_window: 40, zscore_threshold: 9, target_position: 20, pnl: 1184.0\n",
      "================================================================================\n"
     ]
    },
    {
     "name": "stderr",
     "output_type": "stream",
     "text": [
      "32it [18:10, 33.50s/it]"
     ]
    },
    {
     "name": "stdout",
     "output_type": "stream",
     "text": [
      "sma_window: 500, std_window: 40, zscore_threshold: 9, target_position: 40, pnl: 306.0\n",
      "================================================================================\n"
     ]
    },
    {
     "name": "stderr",
     "output_type": "stream",
     "text": [
      "33it [18:41, 32.94s/it]"
     ]
    },
    {
     "name": "stdout",
     "output_type": "stream",
     "text": [
      "sma_window: 500, std_window: 40, zscore_threshold: 9, target_position: 60, pnl: -1047.0\n",
      "================================================================================\n"
     ]
    },
    {
     "name": "stderr",
     "output_type": "stream",
     "text": [
      "34it [19:13, 32.52s/it]"
     ]
    },
    {
     "name": "stdout",
     "output_type": "stream",
     "text": [
      "sma_window: 500, std_window: 40, zscore_threshold: 10, target_position: 20, pnl: -1478.0\n",
      "================================================================================\n"
     ]
    },
    {
     "name": "stderr",
     "output_type": "stream",
     "text": [
      "35it [19:44, 32.20s/it]"
     ]
    },
    {
     "name": "stdout",
     "output_type": "stream",
     "text": [
      "sma_window: 500, std_window: 40, zscore_threshold: 10, target_position: 40, pnl: -2207.0\n",
      "================================================================================\n"
     ]
    },
    {
     "name": "stderr",
     "output_type": "stream",
     "text": [
      "36it [20:16, 32.00s/it]"
     ]
    },
    {
     "name": "stdout",
     "output_type": "stream",
     "text": [
      "sma_window: 500, std_window: 40, zscore_threshold: 10, target_position: 60, pnl: -3491.0\n",
      "================================================================================\n"
     ]
    },
    {
     "name": "stderr",
     "output_type": "stream",
     "text": [
      "37it [20:47, 31.85s/it]"
     ]
    },
    {
     "name": "stdout",
     "output_type": "stream",
     "text": [
      "sma_window: 500, std_window: 50, zscore_threshold: 5, target_position: 20, pnl: 2177.0\n",
      "================================================================================\n"
     ]
    },
    {
     "name": "stderr",
     "output_type": "stream",
     "text": [
      "38it [21:19, 31.80s/it]"
     ]
    },
    {
     "name": "stdout",
     "output_type": "stream",
     "text": [
      "sma_window: 500, std_window: 50, zscore_threshold: 5, target_position: 40, pnl: 4802.0\n",
      "================================================================================\n"
     ]
    },
    {
     "name": "stderr",
     "output_type": "stream",
     "text": [
      "39it [21:51, 31.81s/it]"
     ]
    },
    {
     "name": "stdout",
     "output_type": "stream",
     "text": [
      "sma_window: 500, std_window: 50, zscore_threshold: 5, target_position: 60, pnl: 10577.0\n",
      "================================================================================\n"
     ]
    },
    {
     "name": "stderr",
     "output_type": "stream",
     "text": [
      "40it [22:23, 31.82s/it]"
     ]
    },
    {
     "name": "stdout",
     "output_type": "stream",
     "text": [
      "sma_window: 500, std_window: 50, zscore_threshold: 6, target_position: 20, pnl: 3177.0\n",
      "================================================================================\n"
     ]
    },
    {
     "name": "stderr",
     "output_type": "stream",
     "text": [
      "41it [22:54, 31.80s/it]"
     ]
    },
    {
     "name": "stdout",
     "output_type": "stream",
     "text": [
      "sma_window: 500, std_window: 50, zscore_threshold: 6, target_position: 40, pnl: 7786.0\n",
      "================================================================================\n"
     ]
    },
    {
     "name": "stderr",
     "output_type": "stream",
     "text": [
      "42it [23:28, 32.39s/it]"
     ]
    },
    {
     "name": "stdout",
     "output_type": "stream",
     "text": [
      "sma_window: 500, std_window: 50, zscore_threshold: 6, target_position: 60, pnl: 9837.0\n",
      "================================================================================\n"
     ]
    },
    {
     "name": "stderr",
     "output_type": "stream",
     "text": [
      "43it [24:03, 33.13s/it]"
     ]
    },
    {
     "name": "stdout",
     "output_type": "stream",
     "text": [
      "sma_window: 500, std_window: 50, zscore_threshold: 7, target_position: 20, pnl: -701.0\n",
      "================================================================================\n"
     ]
    },
    {
     "name": "stderr",
     "output_type": "stream",
     "text": [
      "44it [24:38, 33.64s/it]"
     ]
    },
    {
     "name": "stdout",
     "output_type": "stream",
     "text": [
      "sma_window: 500, std_window: 50, zscore_threshold: 7, target_position: 40, pnl: -155.0\n",
      "================================================================================\n"
     ]
    },
    {
     "name": "stderr",
     "output_type": "stream",
     "text": [
      "45it [25:13, 33.92s/it]"
     ]
    },
    {
     "name": "stdout",
     "output_type": "stream",
     "text": [
      "sma_window: 500, std_window: 50, zscore_threshold: 7, target_position: 60, pnl: -1135.0\n",
      "================================================================================\n"
     ]
    },
    {
     "name": "stderr",
     "output_type": "stream",
     "text": [
      "46it [25:48, 34.37s/it]"
     ]
    },
    {
     "name": "stdout",
     "output_type": "stream",
     "text": [
      "sma_window: 500, std_window: 50, zscore_threshold: 8, target_position: 20, pnl: 636.0\n",
      "================================================================================\n"
     ]
    },
    {
     "name": "stderr",
     "output_type": "stream",
     "text": [
      "47it [26:23, 34.45s/it]"
     ]
    },
    {
     "name": "stdout",
     "output_type": "stream",
     "text": [
      "sma_window: 500, std_window: 50, zscore_threshold: 8, target_position: 40, pnl: -109.0\n",
      "================================================================================\n"
     ]
    },
    {
     "name": "stderr",
     "output_type": "stream",
     "text": [
      "48it [26:57, 34.58s/it]"
     ]
    },
    {
     "name": "stdout",
     "output_type": "stream",
     "text": [
      "sma_window: 500, std_window: 50, zscore_threshold: 8, target_position: 60, pnl: -1569.0\n",
      "================================================================================\n"
     ]
    },
    {
     "name": "stderr",
     "output_type": "stream",
     "text": [
      "49it [27:32, 34.68s/it]"
     ]
    },
    {
     "name": "stdout",
     "output_type": "stream",
     "text": [
      "sma_window: 500, std_window: 50, zscore_threshold: 9, target_position: 20, pnl: 681.0\n",
      "================================================================================\n"
     ]
    },
    {
     "name": "stderr",
     "output_type": "stream",
     "text": [
      "50it [28:07, 34.58s/it]"
     ]
    },
    {
     "name": "stdout",
     "output_type": "stream",
     "text": [
      "sma_window: 500, std_window: 50, zscore_threshold: 9, target_position: 40, pnl: -191.0\n",
      "================================================================================\n"
     ]
    },
    {
     "name": "stderr",
     "output_type": "stream",
     "text": [
      "51it [28:42, 34.65s/it]"
     ]
    },
    {
     "name": "stdout",
     "output_type": "stream",
     "text": [
      "sma_window: 500, std_window: 50, zscore_threshold: 9, target_position: 60, pnl: -1217.0\n",
      "================================================================================\n"
     ]
    },
    {
     "name": "stderr",
     "output_type": "stream",
     "text": [
      "52it [29:16, 34.62s/it]"
     ]
    },
    {
     "name": "stdout",
     "output_type": "stream",
     "text": [
      "sma_window: 500, std_window: 50, zscore_threshold: 10, target_position: 20, pnl: -1009.0\n",
      "================================================================================\n"
     ]
    },
    {
     "name": "stderr",
     "output_type": "stream",
     "text": [
      "53it [29:51, 34.71s/it]"
     ]
    },
    {
     "name": "stdout",
     "output_type": "stream",
     "text": [
      "sma_window: 500, std_window: 50, zscore_threshold: 10, target_position: 40, pnl: -1930.0\n",
      "================================================================================\n"
     ]
    },
    {
     "name": "stderr",
     "output_type": "stream",
     "text": [
      "54it [30:26, 34.77s/it]"
     ]
    },
    {
     "name": "stdout",
     "output_type": "stream",
     "text": [
      "sma_window: 500, std_window: 50, zscore_threshold: 10, target_position: 60, pnl: -3059.0\n",
      "================================================================================\n"
     ]
    },
    {
     "name": "stderr",
     "output_type": "stream",
     "text": [
      "55it [31:00, 34.68s/it]"
     ]
    },
    {
     "name": "stdout",
     "output_type": "stream",
     "text": [
      "sma_window: 500, std_window: 60, zscore_threshold: 5, target_position: 20, pnl: 3042.0\n",
      "================================================================================\n"
     ]
    },
    {
     "name": "stderr",
     "output_type": "stream",
     "text": [
      "56it [31:35, 34.62s/it]"
     ]
    },
    {
     "name": "stdout",
     "output_type": "stream",
     "text": [
      "sma_window: 500, std_window: 60, zscore_threshold: 5, target_position: 40, pnl: 5990.0\n",
      "================================================================================\n"
     ]
    },
    {
     "name": "stderr",
     "output_type": "stream",
     "text": [
      "57it [32:10, 34.66s/it]"
     ]
    },
    {
     "name": "stdout",
     "output_type": "stream",
     "text": [
      "sma_window: 500, std_window: 60, zscore_threshold: 5, target_position: 60, pnl: 11025.0\n",
      "================================================================================\n"
     ]
    },
    {
     "name": "stderr",
     "output_type": "stream",
     "text": [
      "58it [32:44, 34.67s/it]"
     ]
    },
    {
     "name": "stdout",
     "output_type": "stream",
     "text": [
      "sma_window: 500, std_window: 60, zscore_threshold: 6, target_position: 20, pnl: 2581.0\n",
      "================================================================================\n"
     ]
    },
    {
     "name": "stderr",
     "output_type": "stream",
     "text": [
      "59it [33:19, 34.62s/it]"
     ]
    },
    {
     "name": "stdout",
     "output_type": "stream",
     "text": [
      "sma_window: 500, std_window: 60, zscore_threshold: 6, target_position: 40, pnl: 4084.0\n",
      "================================================================================\n"
     ]
    },
    {
     "name": "stderr",
     "output_type": "stream",
     "text": [
      "60it [33:54, 34.66s/it]"
     ]
    },
    {
     "name": "stdout",
     "output_type": "stream",
     "text": [
      "sma_window: 500, std_window: 60, zscore_threshold: 6, target_position: 60, pnl: 4908.0\n",
      "================================================================================\n"
     ]
    },
    {
     "name": "stderr",
     "output_type": "stream",
     "text": [
      "61it [34:28, 34.63s/it]"
     ]
    },
    {
     "name": "stdout",
     "output_type": "stream",
     "text": [
      "sma_window: 500, std_window: 60, zscore_threshold: 7, target_position: 20, pnl: 769.0\n",
      "================================================================================\n"
     ]
    },
    {
     "name": "stderr",
     "output_type": "stream",
     "text": [
      "62it [35:03, 34.67s/it]"
     ]
    },
    {
     "name": "stdout",
     "output_type": "stream",
     "text": [
      "sma_window: 500, std_window: 60, zscore_threshold: 7, target_position: 40, pnl: 314.0\n",
      "================================================================================\n"
     ]
    },
    {
     "name": "stderr",
     "output_type": "stream",
     "text": [
      "63it [35:40, 35.29s/it]"
     ]
    },
    {
     "name": "stdout",
     "output_type": "stream",
     "text": [
      "sma_window: 500, std_window: 60, zscore_threshold: 7, target_position: 60, pnl: -573.0\n",
      "================================================================================\n"
     ]
    },
    {
     "name": "stderr",
     "output_type": "stream",
     "text": [
      "64it [36:15, 35.29s/it]"
     ]
    },
    {
     "name": "stdout",
     "output_type": "stream",
     "text": [
      "sma_window: 500, std_window: 60, zscore_threshold: 8, target_position: 20, pnl: -971.0\n",
      "================================================================================\n"
     ]
    },
    {
     "name": "stderr",
     "output_type": "stream",
     "text": [
      "65it [36:47, 34.40s/it]"
     ]
    },
    {
     "name": "stdout",
     "output_type": "stream",
     "text": [
      "sma_window: 500, std_window: 60, zscore_threshold: 8, target_position: 40, pnl: -1587.0\n",
      "================================================================================\n"
     ]
    },
    {
     "name": "stderr",
     "output_type": "stream",
     "text": [
      "66it [37:20, 33.84s/it]"
     ]
    },
    {
     "name": "stdout",
     "output_type": "stream",
     "text": [
      "sma_window: 500, std_window: 60, zscore_threshold: 8, target_position: 60, pnl: -2235.0\n",
      "================================================================================\n"
     ]
    },
    {
     "name": "stderr",
     "output_type": "stream",
     "text": [
      "67it [37:52, 33.33s/it]"
     ]
    },
    {
     "name": "stdout",
     "output_type": "stream",
     "text": [
      "sma_window: 500, std_window: 60, zscore_threshold: 9, target_position: 20, pnl: -1030.0\n",
      "================================================================================\n"
     ]
    },
    {
     "name": "stderr",
     "output_type": "stream",
     "text": [
      "68it [38:24, 32.98s/it]"
     ]
    },
    {
     "name": "stdout",
     "output_type": "stream",
     "text": [
      "sma_window: 500, std_window: 60, zscore_threshold: 9, target_position: 40, pnl: -1640.0\n",
      "================================================================================\n"
     ]
    },
    {
     "name": "stderr",
     "output_type": "stream",
     "text": [
      "69it [38:59, 33.46s/it]"
     ]
    },
    {
     "name": "stdout",
     "output_type": "stream",
     "text": [
      "sma_window: 500, std_window: 60, zscore_threshold: 9, target_position: 60, pnl: -2396.0\n",
      "================================================================================\n"
     ]
    },
    {
     "name": "stderr",
     "output_type": "stream",
     "text": [
      "70it [39:34, 33.93s/it]"
     ]
    },
    {
     "name": "stdout",
     "output_type": "stream",
     "text": [
      "sma_window: 500, std_window: 60, zscore_threshold: 10, target_position: 20, pnl: -902.0\n",
      "================================================================================\n"
     ]
    },
    {
     "name": "stderr",
     "output_type": "stream",
     "text": [
      "71it [40:08, 34.15s/it]"
     ]
    },
    {
     "name": "stdout",
     "output_type": "stream",
     "text": [
      "sma_window: 500, std_window: 60, zscore_threshold: 10, target_position: 40, pnl: -1647.0\n",
      "================================================================================\n"
     ]
    },
    {
     "name": "stderr",
     "output_type": "stream",
     "text": [
      "72it [40:43, 34.39s/it]"
     ]
    },
    {
     "name": "stdout",
     "output_type": "stream",
     "text": [
      "sma_window: 500, std_window: 60, zscore_threshold: 10, target_position: 60, pnl: -1895.0\n",
      "================================================================================\n"
     ]
    },
    {
     "name": "stderr",
     "output_type": "stream",
     "text": [
      "73it [41:28, 37.41s/it]"
     ]
    },
    {
     "name": "stdout",
     "output_type": "stream",
     "text": [
      "sma_window: 1000, std_window: 30, zscore_threshold: 5, target_position: 20, pnl: 823.0\n",
      "================================================================================\n"
     ]
    },
    {
     "name": "stderr",
     "output_type": "stream",
     "text": [
      "74it [42:11, 39.25s/it]"
     ]
    },
    {
     "name": "stdout",
     "output_type": "stream",
     "text": [
      "sma_window: 1000, std_window: 30, zscore_threshold: 5, target_position: 40, pnl: 172.0\n",
      "================================================================================\n"
     ]
    },
    {
     "name": "stderr",
     "output_type": "stream",
     "text": [
      "75it [42:54, 40.39s/it]"
     ]
    },
    {
     "name": "stdout",
     "output_type": "stream",
     "text": [
      "sma_window: 1000, std_window: 30, zscore_threshold: 5, target_position: 60, pnl: 4722.0\n",
      "================================================================================\n"
     ]
    },
    {
     "name": "stderr",
     "output_type": "stream",
     "text": [
      "76it [43:38, 41.28s/it]"
     ]
    },
    {
     "name": "stdout",
     "output_type": "stream",
     "text": [
      "sma_window: 1000, std_window: 30, zscore_threshold: 6, target_position: 20, pnl: -1234.0\n",
      "================================================================================\n"
     ]
    },
    {
     "name": "stderr",
     "output_type": "stream",
     "text": [
      "77it [44:21, 41.76s/it]"
     ]
    },
    {
     "name": "stdout",
     "output_type": "stream",
     "text": [
      "sma_window: 1000, std_window: 30, zscore_threshold: 6, target_position: 40, pnl: -216.0\n",
      "================================================================================\n"
     ]
    },
    {
     "name": "stderr",
     "output_type": "stream",
     "text": [
      "78it [45:04, 42.24s/it]"
     ]
    },
    {
     "name": "stdout",
     "output_type": "stream",
     "text": [
      "sma_window: 1000, std_window: 30, zscore_threshold: 6, target_position: 60, pnl: 5110.0\n",
      "================================================================================\n"
     ]
    },
    {
     "name": "stderr",
     "output_type": "stream",
     "text": [
      "79it [45:47, 42.43s/it]"
     ]
    },
    {
     "name": "stdout",
     "output_type": "stream",
     "text": [
      "sma_window: 1000, std_window: 30, zscore_threshold: 7, target_position: 20, pnl: 280.0\n",
      "================================================================================\n"
     ]
    },
    {
     "name": "stderr",
     "output_type": "stream",
     "text": [
      "80it [46:30, 42.65s/it]"
     ]
    },
    {
     "name": "stdout",
     "output_type": "stream",
     "text": [
      "sma_window: 1000, std_window: 30, zscore_threshold: 7, target_position: 40, pnl: 1969.0\n",
      "================================================================================\n"
     ]
    },
    {
     "name": "stderr",
     "output_type": "stream",
     "text": [
      "81it [47:13, 42.72s/it]"
     ]
    },
    {
     "name": "stdout",
     "output_type": "stream",
     "text": [
      "sma_window: 1000, std_window: 30, zscore_threshold: 7, target_position: 60, pnl: 8903.0\n",
      "================================================================================\n"
     ]
    },
    {
     "name": "stderr",
     "output_type": "stream",
     "text": [
      "82it [47:56, 42.82s/it]"
     ]
    },
    {
     "name": "stdout",
     "output_type": "stream",
     "text": [
      "sma_window: 1000, std_window: 30, zscore_threshold: 8, target_position: 20, pnl: -1368.0\n",
      "================================================================================\n"
     ]
    },
    {
     "name": "stderr",
     "output_type": "stream",
     "text": [
      "83it [48:39, 42.85s/it]"
     ]
    },
    {
     "name": "stdout",
     "output_type": "stream",
     "text": [
      "sma_window: 1000, std_window: 30, zscore_threshold: 8, target_position: 40, pnl: -954.0\n",
      "================================================================================\n"
     ]
    },
    {
     "name": "stderr",
     "output_type": "stream",
     "text": [
      "84it [49:22, 42.96s/it]"
     ]
    },
    {
     "name": "stdout",
     "output_type": "stream",
     "text": [
      "sma_window: 1000, std_window: 30, zscore_threshold: 8, target_position: 60, pnl: 4753.0\n",
      "================================================================================\n"
     ]
    },
    {
     "name": "stderr",
     "output_type": "stream",
     "text": [
      "85it [50:05, 42.97s/it]"
     ]
    },
    {
     "name": "stdout",
     "output_type": "stream",
     "text": [
      "sma_window: 1000, std_window: 30, zscore_threshold: 9, target_position: 20, pnl: -388.0\n",
      "================================================================================\n"
     ]
    },
    {
     "name": "stderr",
     "output_type": "stream",
     "text": [
      "86it [50:48, 43.09s/it]"
     ]
    },
    {
     "name": "stdout",
     "output_type": "stream",
     "text": [
      "sma_window: 1000, std_window: 30, zscore_threshold: 9, target_position: 40, pnl: 311.0\n",
      "================================================================================\n"
     ]
    },
    {
     "name": "stderr",
     "output_type": "stream",
     "text": [
      "87it [51:31, 43.01s/it]"
     ]
    },
    {
     "name": "stdout",
     "output_type": "stream",
     "text": [
      "sma_window: 1000, std_window: 30, zscore_threshold: 9, target_position: 60, pnl: 6144.5\n",
      "================================================================================\n"
     ]
    },
    {
     "name": "stderr",
     "output_type": "stream",
     "text": [
      "88it [52:14, 43.03s/it]"
     ]
    },
    {
     "name": "stdout",
     "output_type": "stream",
     "text": [
      "sma_window: 1000, std_window: 30, zscore_threshold: 10, target_position: 20, pnl: 781.0\n",
      "================================================================================\n"
     ]
    },
    {
     "name": "stderr",
     "output_type": "stream",
     "text": [
      "89it [52:58, 43.07s/it]"
     ]
    },
    {
     "name": "stdout",
     "output_type": "stream",
     "text": [
      "sma_window: 1000, std_window: 30, zscore_threshold: 10, target_position: 40, pnl: 2679.0\n",
      "================================================================================\n"
     ]
    },
    {
     "name": "stderr",
     "output_type": "stream",
     "text": [
      "90it [53:40, 43.04s/it]"
     ]
    },
    {
     "name": "stdout",
     "output_type": "stream",
     "text": [
      "sma_window: 1000, std_window: 30, zscore_threshold: 10, target_position: 60, pnl: 9263.0\n",
      "================================================================================\n"
     ]
    },
    {
     "name": "stderr",
     "output_type": "stream",
     "text": [
      "91it [54:23, 43.00s/it]"
     ]
    },
    {
     "name": "stdout",
     "output_type": "stream",
     "text": [
      "sma_window: 1000, std_window: 40, zscore_threshold: 5, target_position: 20, pnl: 470.0\n",
      "================================================================================\n"
     ]
    },
    {
     "name": "stderr",
     "output_type": "stream",
     "text": [
      "92it [55:06, 42.98s/it]"
     ]
    },
    {
     "name": "stdout",
     "output_type": "stream",
     "text": [
      "sma_window: 1000, std_window: 40, zscore_threshold: 5, target_position: 40, pnl: 1548.0\n",
      "================================================================================\n"
     ]
    },
    {
     "name": "stderr",
     "output_type": "stream",
     "text": [
      "93it [55:50, 43.07s/it]"
     ]
    },
    {
     "name": "stdout",
     "output_type": "stream",
     "text": [
      "sma_window: 1000, std_window: 40, zscore_threshold: 5, target_position: 60, pnl: 6617.0\n",
      "================================================================================\n"
     ]
    },
    {
     "name": "stderr",
     "output_type": "stream",
     "text": [
      "94it [56:33, 43.09s/it]"
     ]
    },
    {
     "name": "stdout",
     "output_type": "stream",
     "text": [
      "sma_window: 1000, std_window: 40, zscore_threshold: 6, target_position: 20, pnl: 1285.0\n",
      "================================================================================\n"
     ]
    },
    {
     "name": "stderr",
     "output_type": "stream",
     "text": [
      "95it [57:16, 43.09s/it]"
     ]
    },
    {
     "name": "stdout",
     "output_type": "stream",
     "text": [
      "sma_window: 1000, std_window: 40, zscore_threshold: 6, target_position: 40, pnl: 3392.0\n",
      "================================================================================\n"
     ]
    },
    {
     "name": "stderr",
     "output_type": "stream",
     "text": [
      "96it [57:59, 43.04s/it]"
     ]
    },
    {
     "name": "stdout",
     "output_type": "stream",
     "text": [
      "sma_window: 1000, std_window: 40, zscore_threshold: 6, target_position: 60, pnl: 10452.5\n",
      "================================================================================\n"
     ]
    },
    {
     "name": "stderr",
     "output_type": "stream",
     "text": [
      "97it [58:42, 43.12s/it]"
     ]
    },
    {
     "name": "stdout",
     "output_type": "stream",
     "text": [
      "sma_window: 1000, std_window: 40, zscore_threshold: 7, target_position: 20, pnl: 1975.0\n",
      "================================================================================\n"
     ]
    },
    {
     "name": "stderr",
     "output_type": "stream",
     "text": [
      "98it [59:25, 43.09s/it]"
     ]
    },
    {
     "name": "stdout",
     "output_type": "stream",
     "text": [
      "sma_window: 1000, std_window: 40, zscore_threshold: 7, target_position: 40, pnl: 4828.0\n",
      "================================================================================\n"
     ]
    },
    {
     "name": "stderr",
     "output_type": "stream",
     "text": [
      "99it [1:00:08, 43.06s/it]"
     ]
    },
    {
     "name": "stdout",
     "output_type": "stream",
     "text": [
      "sma_window: 1000, std_window: 40, zscore_threshold: 7, target_position: 60, pnl: 10451.0\n",
      "================================================================================\n"
     ]
    },
    {
     "name": "stderr",
     "output_type": "stream",
     "text": [
      "100it [1:00:51, 43.04s/it]"
     ]
    },
    {
     "name": "stdout",
     "output_type": "stream",
     "text": [
      "sma_window: 1000, std_window: 40, zscore_threshold: 8, target_position: 20, pnl: 587.0\n",
      "================================================================================\n"
     ]
    },
    {
     "name": "stderr",
     "output_type": "stream",
     "text": [
      "101it [1:01:34, 43.02s/it]"
     ]
    },
    {
     "name": "stdout",
     "output_type": "stream",
     "text": [
      "sma_window: 1000, std_window: 40, zscore_threshold: 8, target_position: 40, pnl: 1362.0\n",
      "================================================================================\n"
     ]
    },
    {
     "name": "stderr",
     "output_type": "stream",
     "text": [
      "102it [1:02:17, 42.90s/it]"
     ]
    },
    {
     "name": "stdout",
     "output_type": "stream",
     "text": [
      "sma_window: 1000, std_window: 40, zscore_threshold: 8, target_position: 60, pnl: 6858.0\n",
      "================================================================================\n"
     ]
    },
    {
     "name": "stderr",
     "output_type": "stream",
     "text": [
      "103it [1:03:00, 42.92s/it]"
     ]
    },
    {
     "name": "stdout",
     "output_type": "stream",
     "text": [
      "sma_window: 1000, std_window: 40, zscore_threshold: 9, target_position: 20, pnl: 1419.0\n",
      "================================================================================\n"
     ]
    },
    {
     "name": "stderr",
     "output_type": "stream",
     "text": [
      "104it [1:03:43, 43.12s/it]"
     ]
    },
    {
     "name": "stdout",
     "output_type": "stream",
     "text": [
      "sma_window: 1000, std_window: 40, zscore_threshold: 9, target_position: 40, pnl: 3487.0\n",
      "================================================================================\n"
     ]
    },
    {
     "name": "stderr",
     "output_type": "stream",
     "text": [
      "105it [1:04:27, 43.23s/it]"
     ]
    },
    {
     "name": "stdout",
     "output_type": "stream",
     "text": [
      "sma_window: 1000, std_window: 40, zscore_threshold: 9, target_position: 60, pnl: 9496.0\n",
      "================================================================================\n"
     ]
    },
    {
     "name": "stderr",
     "output_type": "stream",
     "text": [
      "106it [1:05:12, 43.71s/it]"
     ]
    },
    {
     "name": "stdout",
     "output_type": "stream",
     "text": [
      "sma_window: 1000, std_window: 40, zscore_threshold: 10, target_position: 20, pnl: 1786.0\n",
      "================================================================================\n"
     ]
    },
    {
     "name": "stderr",
     "output_type": "stream",
     "text": [
      "107it [1:05:56, 43.90s/it]"
     ]
    },
    {
     "name": "stdout",
     "output_type": "stream",
     "text": [
      "sma_window: 1000, std_window: 40, zscore_threshold: 10, target_position: 40, pnl: 4331.0\n",
      "================================================================================\n"
     ]
    },
    {
     "name": "stderr",
     "output_type": "stream",
     "text": [
      "108it [1:06:39, 43.62s/it]"
     ]
    },
    {
     "name": "stdout",
     "output_type": "stream",
     "text": [
      "sma_window: 1000, std_window: 40, zscore_threshold: 10, target_position: 60, pnl: 11404.0\n",
      "================================================================================\n"
     ]
    },
    {
     "name": "stderr",
     "output_type": "stream",
     "text": [
      "109it [1:07:22, 43.56s/it]"
     ]
    },
    {
     "name": "stdout",
     "output_type": "stream",
     "text": [
      "sma_window: 1000, std_window: 50, zscore_threshold: 5, target_position: 20, pnl: 1081.0\n",
      "================================================================================\n"
     ]
    },
    {
     "name": "stderr",
     "output_type": "stream",
     "text": [
      "110it [1:08:05, 43.41s/it]"
     ]
    },
    {
     "name": "stdout",
     "output_type": "stream",
     "text": [
      "sma_window: 1000, std_window: 50, zscore_threshold: 5, target_position: 40, pnl: 3003.0\n",
      "================================================================================\n"
     ]
    },
    {
     "name": "stderr",
     "output_type": "stream",
     "text": [
      "111it [1:08:49, 43.44s/it]"
     ]
    },
    {
     "name": "stdout",
     "output_type": "stream",
     "text": [
      "sma_window: 1000, std_window: 50, zscore_threshold: 5, target_position: 60, pnl: 7951.0\n",
      "================================================================================\n"
     ]
    },
    {
     "name": "stderr",
     "output_type": "stream",
     "text": [
      "112it [1:09:32, 43.31s/it]"
     ]
    },
    {
     "name": "stdout",
     "output_type": "stream",
     "text": [
      "sma_window: 1000, std_window: 50, zscore_threshold: 6, target_position: 20, pnl: 2812.0\n",
      "================================================================================\n"
     ]
    },
    {
     "name": "stderr",
     "output_type": "stream",
     "text": [
      "113it [1:10:15, 43.28s/it]"
     ]
    },
    {
     "name": "stdout",
     "output_type": "stream",
     "text": [
      "sma_window: 1000, std_window: 50, zscore_threshold: 6, target_position: 40, pnl: 4496.0\n",
      "================================================================================\n"
     ]
    },
    {
     "name": "stderr",
     "output_type": "stream",
     "text": [
      "114it [1:10:59, 43.33s/it]"
     ]
    },
    {
     "name": "stdout",
     "output_type": "stream",
     "text": [
      "sma_window: 1000, std_window: 50, zscore_threshold: 6, target_position: 60, pnl: 10388.0\n",
      "================================================================================\n"
     ]
    },
    {
     "name": "stderr",
     "output_type": "stream",
     "text": [
      "115it [1:11:42, 43.37s/it]"
     ]
    },
    {
     "name": "stdout",
     "output_type": "stream",
     "text": [
      "sma_window: 1000, std_window: 50, zscore_threshold: 7, target_position: 20, pnl: 2250.0\n",
      "================================================================================\n"
     ]
    },
    {
     "name": "stderr",
     "output_type": "stream",
     "text": [
      "116it [1:12:25, 43.34s/it]"
     ]
    },
    {
     "name": "stdout",
     "output_type": "stream",
     "text": [
      "sma_window: 1000, std_window: 50, zscore_threshold: 7, target_position: 40, pnl: 3728.0\n",
      "================================================================================\n"
     ]
    },
    {
     "name": "stderr",
     "output_type": "stream",
     "text": [
      "117it [1:13:08, 43.29s/it]"
     ]
    },
    {
     "name": "stdout",
     "output_type": "stream",
     "text": [
      "sma_window: 1000, std_window: 50, zscore_threshold: 7, target_position: 60, pnl: 9166.0\n",
      "================================================================================\n"
     ]
    },
    {
     "name": "stderr",
     "output_type": "stream",
     "text": [
      "118it [1:13:52, 43.49s/it]"
     ]
    },
    {
     "name": "stdout",
     "output_type": "stream",
     "text": [
      "sma_window: 1000, std_window: 50, zscore_threshold: 8, target_position: 20, pnl: 1279.0\n",
      "================================================================================\n"
     ]
    },
    {
     "name": "stderr",
     "output_type": "stream",
     "text": [
      "119it [1:14:37, 43.71s/it]"
     ]
    },
    {
     "name": "stdout",
     "output_type": "stream",
     "text": [
      "sma_window: 1000, std_window: 50, zscore_threshold: 8, target_position: 40, pnl: 3000.0\n",
      "================================================================================\n"
     ]
    },
    {
     "name": "stderr",
     "output_type": "stream",
     "text": [
      "120it [1:15:22, 44.08s/it]"
     ]
    },
    {
     "name": "stdout",
     "output_type": "stream",
     "text": [
      "sma_window: 1000, std_window: 50, zscore_threshold: 8, target_position: 60, pnl: 8326.0\n",
      "================================================================================\n"
     ]
    },
    {
     "name": "stderr",
     "output_type": "stream",
     "text": [
      "121it [1:16:05, 43.80s/it]"
     ]
    },
    {
     "name": "stdout",
     "output_type": "stream",
     "text": [
      "sma_window: 1000, std_window: 50, zscore_threshold: 9, target_position: 20, pnl: 2596.0\n",
      "================================================================================\n"
     ]
    },
    {
     "name": "stderr",
     "output_type": "stream",
     "text": [
      "122it [1:16:48, 43.65s/it]"
     ]
    },
    {
     "name": "stdout",
     "output_type": "stream",
     "text": [
      "sma_window: 1000, std_window: 50, zscore_threshold: 9, target_position: 40, pnl: 6392.0\n",
      "================================================================================\n"
     ]
    },
    {
     "name": "stderr",
     "output_type": "stream",
     "text": [
      "123it [1:17:32, 43.72s/it]"
     ]
    },
    {
     "name": "stdout",
     "output_type": "stream",
     "text": [
      "sma_window: 1000, std_window: 50, zscore_threshold: 9, target_position: 60, pnl: 14300.0\n",
      "================================================================================\n"
     ]
    },
    {
     "name": "stderr",
     "output_type": "stream",
     "text": [
      "124it [1:18:18, 44.46s/it]"
     ]
    },
    {
     "name": "stdout",
     "output_type": "stream",
     "text": [
      "sma_window: 1000, std_window: 50, zscore_threshold: 10, target_position: 20, pnl: 3965.0\n",
      "================================================================================\n"
     ]
    },
    {
     "name": "stderr",
     "output_type": "stream",
     "text": [
      "125it [1:19:03, 44.58s/it]"
     ]
    },
    {
     "name": "stdout",
     "output_type": "stream",
     "text": [
      "sma_window: 1000, std_window: 50, zscore_threshold: 10, target_position: 40, pnl: 8909.0\n",
      "================================================================================\n"
     ]
    },
    {
     "name": "stderr",
     "output_type": "stream",
     "text": [
      "126it [1:19:47, 44.43s/it]"
     ]
    },
    {
     "name": "stdout",
     "output_type": "stream",
     "text": [
      "sma_window: 1000, std_window: 50, zscore_threshold: 10, target_position: 60, pnl: 16633.0\n",
      "================================================================================\n"
     ]
    },
    {
     "name": "stderr",
     "output_type": "stream",
     "text": [
      "127it [1:20:30, 44.14s/it]"
     ]
    },
    {
     "name": "stdout",
     "output_type": "stream",
     "text": [
      "sma_window: 1000, std_window: 60, zscore_threshold: 5, target_position: 20, pnl: 3517.0\n",
      "================================================================================\n"
     ]
    },
    {
     "name": "stderr",
     "output_type": "stream",
     "text": [
      "128it [1:21:17, 44.81s/it]"
     ]
    },
    {
     "name": "stdout",
     "output_type": "stream",
     "text": [
      "sma_window: 1000, std_window: 60, zscore_threshold: 5, target_position: 40, pnl: 6069.0\n",
      "================================================================================\n"
     ]
    },
    {
     "name": "stderr",
     "output_type": "stream",
     "text": [
      "129it [1:22:03, 45.30s/it]"
     ]
    },
    {
     "name": "stdout",
     "output_type": "stream",
     "text": [
      "sma_window: 1000, std_window: 60, zscore_threshold: 5, target_position: 60, pnl: 12550.0\n",
      "================================================================================\n"
     ]
    },
    {
     "name": "stderr",
     "output_type": "stream",
     "text": [
      "130it [1:22:50, 45.87s/it]"
     ]
    },
    {
     "name": "stdout",
     "output_type": "stream",
     "text": [
      "sma_window: 1000, std_window: 60, zscore_threshold: 6, target_position: 20, pnl: 1066.0\n",
      "================================================================================\n"
     ]
    },
    {
     "name": "stderr",
     "output_type": "stream",
     "text": [
      "131it [1:23:37, 46.03s/it]"
     ]
    },
    {
     "name": "stdout",
     "output_type": "stream",
     "text": [
      "sma_window: 1000, std_window: 60, zscore_threshold: 6, target_position: 40, pnl: 2321.0\n",
      "================================================================================\n"
     ]
    },
    {
     "name": "stderr",
     "output_type": "stream",
     "text": [
      "132it [1:24:21, 45.41s/it]"
     ]
    },
    {
     "name": "stdout",
     "output_type": "stream",
     "text": [
      "sma_window: 1000, std_window: 60, zscore_threshold: 6, target_position: 60, pnl: 8161.0\n",
      "================================================================================\n"
     ]
    },
    {
     "name": "stderr",
     "output_type": "stream",
     "text": [
      "133it [1:25:05, 44.96s/it]"
     ]
    },
    {
     "name": "stdout",
     "output_type": "stream",
     "text": [
      "sma_window: 1000, std_window: 60, zscore_threshold: 7, target_position: 20, pnl: 1503.0\n",
      "================================================================================\n"
     ]
    },
    {
     "name": "stderr",
     "output_type": "stream",
     "text": [
      "134it [1:25:48, 44.50s/it]"
     ]
    },
    {
     "name": "stdout",
     "output_type": "stream",
     "text": [
      "sma_window: 1000, std_window: 60, zscore_threshold: 7, target_position: 40, pnl: 3353.0\n",
      "================================================================================\n"
     ]
    },
    {
     "name": "stderr",
     "output_type": "stream",
     "text": [
      "135it [1:26:31, 44.11s/it]"
     ]
    },
    {
     "name": "stdout",
     "output_type": "stream",
     "text": [
      "sma_window: 1000, std_window: 60, zscore_threshold: 7, target_position: 60, pnl: 10223.0\n",
      "================================================================================\n"
     ]
    },
    {
     "name": "stderr",
     "output_type": "stream",
     "text": [
      "136it [1:27:15, 43.92s/it]"
     ]
    },
    {
     "name": "stdout",
     "output_type": "stream",
     "text": [
      "sma_window: 1000, std_window: 60, zscore_threshold: 8, target_position: 20, pnl: 2835.0\n",
      "================================================================================\n"
     ]
    },
    {
     "name": "stderr",
     "output_type": "stream",
     "text": [
      "137it [1:28:00, 44.17s/it]"
     ]
    },
    {
     "name": "stdout",
     "output_type": "stream",
     "text": [
      "sma_window: 1000, std_window: 60, zscore_threshold: 8, target_position: 40, pnl: 7784.0\n",
      "================================================================================\n"
     ]
    },
    {
     "name": "stderr",
     "output_type": "stream",
     "text": [
      "138it [1:28:42, 43.74s/it]"
     ]
    },
    {
     "name": "stdout",
     "output_type": "stream",
     "text": [
      "sma_window: 1000, std_window: 60, zscore_threshold: 8, target_position: 60, pnl: 15424.0\n",
      "================================================================================\n"
     ]
    },
    {
     "name": "stderr",
     "output_type": "stream",
     "text": [
      "139it [1:29:26, 43.67s/it]"
     ]
    },
    {
     "name": "stdout",
     "output_type": "stream",
     "text": [
      "sma_window: 1000, std_window: 60, zscore_threshold: 9, target_position: 20, pnl: 4790.0\n",
      "================================================================================\n"
     ]
    },
    {
     "name": "stderr",
     "output_type": "stream",
     "text": [
      "140it [1:30:09, 43.66s/it]"
     ]
    },
    {
     "name": "stdout",
     "output_type": "stream",
     "text": [
      "sma_window: 1000, std_window: 60, zscore_threshold: 9, target_position: 40, pnl: 10025.0\n",
      "================================================================================\n"
     ]
    },
    {
     "name": "stderr",
     "output_type": "stream",
     "text": [
      "141it [1:30:54, 43.82s/it]"
     ]
    },
    {
     "name": "stdout",
     "output_type": "stream",
     "text": [
      "sma_window: 1000, std_window: 60, zscore_threshold: 9, target_position: 60, pnl: 18270.0\n",
      "================================================================================\n"
     ]
    },
    {
     "name": "stderr",
     "output_type": "stream",
     "text": [
      "142it [1:31:36, 43.52s/it]"
     ]
    },
    {
     "name": "stdout",
     "output_type": "stream",
     "text": [
      "sma_window: 1000, std_window: 60, zscore_threshold: 10, target_position: 20, pnl: 4657.0\n",
      "================================================================================\n"
     ]
    },
    {
     "name": "stderr",
     "output_type": "stream",
     "text": [
      "143it [1:32:19, 43.10s/it]"
     ]
    },
    {
     "name": "stdout",
     "output_type": "stream",
     "text": [
      "sma_window: 1000, std_window: 60, zscore_threshold: 10, target_position: 40, pnl: 9254.0\n",
      "================================================================================\n"
     ]
    },
    {
     "name": "stderr",
     "output_type": "stream",
     "text": [
      "144it [1:33:00, 42.66s/it]"
     ]
    },
    {
     "name": "stdout",
     "output_type": "stream",
     "text": [
      "sma_window: 1000, std_window: 60, zscore_threshold: 10, target_position: 60, pnl: 17287.0\n",
      "================================================================================\n"
     ]
    },
    {
     "name": "stderr",
     "output_type": "stream",
     "text": [
      "145it [1:33:51, 45.22s/it]"
     ]
    },
    {
     "name": "stdout",
     "output_type": "stream",
     "text": [
      "sma_window: 1500, std_window: 30, zscore_threshold: 5, target_position: 20, pnl: -725.0\n",
      "================================================================================\n"
     ]
    },
    {
     "name": "stderr",
     "output_type": "stream",
     "text": [
      "146it [1:34:43, 47.08s/it]"
     ]
    },
    {
     "name": "stdout",
     "output_type": "stream",
     "text": [
      "sma_window: 1500, std_window: 30, zscore_threshold: 5, target_position: 40, pnl: -1683.0\n",
      "================================================================================\n"
     ]
    },
    {
     "name": "stderr",
     "output_type": "stream",
     "text": [
      "147it [1:35:36, 48.79s/it]"
     ]
    },
    {
     "name": "stdout",
     "output_type": "stream",
     "text": [
      "sma_window: 1500, std_window: 30, zscore_threshold: 5, target_position: 60, pnl: -956.5\n",
      "================================================================================\n"
     ]
    },
    {
     "name": "stderr",
     "output_type": "stream",
     "text": [
      "148it [1:36:26, 49.39s/it]"
     ]
    },
    {
     "name": "stdout",
     "output_type": "stream",
     "text": [
      "sma_window: 1500, std_window: 30, zscore_threshold: 6, target_position: 20, pnl: -923.0\n",
      "================================================================================\n"
     ]
    },
    {
     "name": "stderr",
     "output_type": "stream",
     "text": [
      "149it [1:37:18, 49.93s/it]"
     ]
    },
    {
     "name": "stdout",
     "output_type": "stream",
     "text": [
      "sma_window: 1500, std_window: 30, zscore_threshold: 6, target_position: 40, pnl: -1922.0\n",
      "================================================================================\n"
     ]
    },
    {
     "name": "stderr",
     "output_type": "stream",
     "text": [
      "150it [1:38:09, 50.47s/it]"
     ]
    },
    {
     "name": "stdout",
     "output_type": "stream",
     "text": [
      "sma_window: 1500, std_window: 30, zscore_threshold: 6, target_position: 60, pnl: -3808.0\n",
      "================================================================================\n"
     ]
    },
    {
     "name": "stderr",
     "output_type": "stream",
     "text": [
      "151it [1:38:59, 50.35s/it]"
     ]
    },
    {
     "name": "stdout",
     "output_type": "stream",
     "text": [
      "sma_window: 1500, std_window: 30, zscore_threshold: 7, target_position: 20, pnl: -831.0\n",
      "================================================================================\n"
     ]
    },
    {
     "name": "stderr",
     "output_type": "stream",
     "text": [
      "152it [1:39:51, 50.66s/it]"
     ]
    },
    {
     "name": "stdout",
     "output_type": "stream",
     "text": [
      "sma_window: 1500, std_window: 30, zscore_threshold: 7, target_position: 40, pnl: -21.0\n",
      "================================================================================\n"
     ]
    },
    {
     "name": "stderr",
     "output_type": "stream",
     "text": [
      "153it [1:40:43, 51.07s/it]"
     ]
    },
    {
     "name": "stdout",
     "output_type": "stream",
     "text": [
      "sma_window: 1500, std_window: 30, zscore_threshold: 7, target_position: 60, pnl: -396.0\n",
      "================================================================================\n"
     ]
    },
    {
     "name": "stderr",
     "output_type": "stream",
     "text": [
      "154it [1:41:33, 50.66s/it]"
     ]
    },
    {
     "name": "stdout",
     "output_type": "stream",
     "text": [
      "sma_window: 1500, std_window: 30, zscore_threshold: 8, target_position: 20, pnl: 249.0\n",
      "================================================================================\n"
     ]
    },
    {
     "name": "stderr",
     "output_type": "stream",
     "text": [
      "155it [1:42:21, 50.04s/it]"
     ]
    },
    {
     "name": "stdout",
     "output_type": "stream",
     "text": [
      "sma_window: 1500, std_window: 30, zscore_threshold: 8, target_position: 40, pnl: 2064.0\n",
      "================================================================================\n"
     ]
    },
    {
     "name": "stderr",
     "output_type": "stream",
     "text": [
      "156it [1:43:10, 49.57s/it]"
     ]
    },
    {
     "name": "stdout",
     "output_type": "stream",
     "text": [
      "sma_window: 1500, std_window: 30, zscore_threshold: 8, target_position: 60, pnl: 4158.0\n",
      "================================================================================\n"
     ]
    },
    {
     "name": "stderr",
     "output_type": "stream",
     "text": [
      "156it [1:43:34, 39.84s/it]\n"
     ]
    },
    {
     "ename": "KeyboardInterrupt",
     "evalue": "",
     "output_type": "error",
     "traceback": [
      "\u001B[0;31m---------------------------------------------------------------------------\u001B[0m",
      "\u001B[0;31mKeyboardInterrupt\u001B[0m                         Traceback (most recent call last)",
      "Cell \u001B[0;32mIn[95], line 52\u001B[0m\n\u001B[1;32m     50\u001B[0m trader \u001B[38;5;241m=\u001B[39m Trader(params\u001B[38;5;241m=\u001B[39mparams)\n\u001B[1;32m     51\u001B[0m backtester \u001B[38;5;241m=\u001B[39m Backtester(trader, listings, position_limit, fair_calculations, market_data, trade_history, \u001B[38;5;124m\"\u001B[39m\u001B[38;5;124msimple_strat_backtest_no_clear_test_exceed.log\u001B[39m\u001B[38;5;124m\"\u001B[39m)\n\u001B[0;32m---> 52\u001B[0m \u001B[43mbacktester\u001B[49m\u001B[38;5;241;43m.\u001B[39;49m\u001B[43mrun\u001B[49m\u001B[43m(\u001B[49m\u001B[43m)\u001B[49m\n\u001B[1;32m     53\u001B[0m pnl \u001B[38;5;241m=\u001B[39m \u001B[38;5;28msum\u001B[39m(\u001B[38;5;28mfloat\u001B[39m(pnl) \u001B[38;5;28;01mfor\u001B[39;00m pnl \u001B[38;5;129;01min\u001B[39;00m backtester\u001B[38;5;241m.\u001B[39mpnl\u001B[38;5;241m.\u001B[39mvalues())\n\u001B[1;32m     54\u001B[0m total_pnl \u001B[38;5;241m+\u001B[39m\u001B[38;5;241m=\u001B[39m pnl\n",
      "File \u001B[0;32m~/documents/projects/prosperity-imc-2025/src/subs/round_2/backtester.py:86\u001B[0m, in \u001B[0;36mBacktester.run\u001B[0;34m(self)\u001B[0m\n\u001B[1;32m     75\u001B[0m order_depths_pnl \u001B[38;5;241m=\u001B[39m \u001B[38;5;28mself\u001B[39m\u001B[38;5;241m.\u001B[39m_construct_order_depths(group)\n\u001B[1;32m     76\u001B[0m state \u001B[38;5;241m=\u001B[39m \u001B[38;5;28mself\u001B[39m\u001B[38;5;241m.\u001B[39m_construct_trading_state(\n\u001B[1;32m     77\u001B[0m     traderData,\n\u001B[1;32m     78\u001B[0m     timestamp,\n\u001B[0;32m   (...)\u001B[0m\n\u001B[1;32m     84\u001B[0m     \u001B[38;5;28mself\u001B[39m\u001B[38;5;241m.\u001B[39mobservations,\n\u001B[1;32m     85\u001B[0m )\n\u001B[0;32m---> 86\u001B[0m orders, conversions, traderData \u001B[38;5;241m=\u001B[39m \u001B[38;5;28;43mself\u001B[39;49m\u001B[38;5;241;43m.\u001B[39;49m\u001B[43mtrader\u001B[49m\u001B[38;5;241;43m.\u001B[39;49m\u001B[43mrun\u001B[49m\u001B[43m(\u001B[49m\u001B[43mstate\u001B[49m\u001B[43m)\u001B[49m\n\u001B[1;32m     87\u001B[0m products \u001B[38;5;241m=\u001B[39m group[\u001B[38;5;124m\"\u001B[39m\u001B[38;5;124mproduct\u001B[39m\u001B[38;5;124m\"\u001B[39m]\u001B[38;5;241m.\u001B[39mtolist()\n\u001B[1;32m     88\u001B[0m sandboxLog \u001B[38;5;241m=\u001B[39m \u001B[38;5;124m\"\u001B[39m\u001B[38;5;124m\"\u001B[39m\n",
      "File \u001B[0;32m~/documents/projects/prosperity-imc-2025/src/subs/round_2/r3.py:716\u001B[0m, in \u001B[0;36mTrader.run\u001B[0;34m(self, state)\u001B[0m\n\u001B[1;32m    714\u001B[0m traderObject \u001B[38;5;241m=\u001B[39m {}\n\u001B[1;32m    715\u001B[0m \u001B[38;5;28;01mif\u001B[39;00m state\u001B[38;5;241m.\u001B[39mtraderData \u001B[38;5;241m!=\u001B[39m \u001B[38;5;28;01mNone\u001B[39;00m \u001B[38;5;129;01mand\u001B[39;00m state\u001B[38;5;241m.\u001B[39mtraderData \u001B[38;5;241m!=\u001B[39m \u001B[38;5;124m\"\u001B[39m\u001B[38;5;124m\"\u001B[39m:\n\u001B[0;32m--> 716\u001B[0m     traderObject \u001B[38;5;241m=\u001B[39m \u001B[43mjsonpickle\u001B[49m\u001B[38;5;241;43m.\u001B[39;49m\u001B[43mdecode\u001B[49m\u001B[43m(\u001B[49m\u001B[43mstate\u001B[49m\u001B[38;5;241;43m.\u001B[39;49m\u001B[43mtraderData\u001B[49m\u001B[43m)\u001B[49m\n\u001B[1;32m    718\u001B[0m result \u001B[38;5;241m=\u001B[39m {}\n\u001B[1;32m    719\u001B[0m conversions \u001B[38;5;241m=\u001B[39m \u001B[38;5;241m0\u001B[39m\n",
      "File \u001B[0;32m~/documents/projects/prosperity-imc-2025/.venv/lib/python3.10/site-packages/jsonpickle/unpickler.py:102\u001B[0m, in \u001B[0;36mdecode\u001B[0;34m(string, backend, context, keys, reset, safe, classes, v1_decode, on_missing, handle_readonly)\u001B[0m\n\u001B[1;32m     93\u001B[0m backend \u001B[38;5;241m=\u001B[39m backend \u001B[38;5;129;01mor\u001B[39;00m json\n\u001B[1;32m     94\u001B[0m context \u001B[38;5;241m=\u001B[39m context \u001B[38;5;129;01mor\u001B[39;00m Unpickler(\n\u001B[1;32m     95\u001B[0m     keys\u001B[38;5;241m=\u001B[39mkeys,\n\u001B[1;32m     96\u001B[0m     backend\u001B[38;5;241m=\u001B[39mbackend,\n\u001B[0;32m   (...)\u001B[0m\n\u001B[1;32m    100\u001B[0m     handle_readonly\u001B[38;5;241m=\u001B[39mhandle_readonly,\n\u001B[1;32m    101\u001B[0m )\n\u001B[0;32m--> 102\u001B[0m data \u001B[38;5;241m=\u001B[39m \u001B[43mbackend\u001B[49m\u001B[38;5;241;43m.\u001B[39;49m\u001B[43mdecode\u001B[49m\u001B[43m(\u001B[49m\u001B[43mstring\u001B[49m\u001B[43m)\u001B[49m\n\u001B[1;32m    103\u001B[0m \u001B[38;5;28;01mreturn\u001B[39;00m context\u001B[38;5;241m.\u001B[39mrestore(data, reset\u001B[38;5;241m=\u001B[39mreset, classes\u001B[38;5;241m=\u001B[39mclasses)\n",
      "File \u001B[0;32m~/documents/projects/prosperity-imc-2025/.venv/lib/python3.10/site-packages/jsonpickle/backend.py:60\u001B[0m, in \u001B[0;36mJSONBackend.decode\u001B[0;34m(self, string)\u001B[0m\n\u001B[1;32m     58\u001B[0m \u001B[38;5;28;01mfor\u001B[39;00m idx, name \u001B[38;5;129;01min\u001B[39;00m \u001B[38;5;28menumerate\u001B[39m(\u001B[38;5;28mself\u001B[39m\u001B[38;5;241m.\u001B[39m_backend_names):\n\u001B[1;32m     59\u001B[0m     \u001B[38;5;28;01mtry\u001B[39;00m:\n\u001B[0;32m---> 60\u001B[0m         \u001B[38;5;28;01mreturn\u001B[39;00m \u001B[38;5;28;43mself\u001B[39;49m\u001B[38;5;241;43m.\u001B[39;49m\u001B[43mbackend_decode\u001B[49m\u001B[43m(\u001B[49m\u001B[43mname\u001B[49m\u001B[43m,\u001B[49m\u001B[43m \u001B[49m\u001B[43mstring\u001B[49m\u001B[43m)\u001B[49m\n\u001B[1;32m     61\u001B[0m     \u001B[38;5;28;01mexcept\u001B[39;00m \u001B[38;5;28mself\u001B[39m\u001B[38;5;241m.\u001B[39m_decoder_exceptions[name] \u001B[38;5;28;01mas\u001B[39;00m e:\n\u001B[1;32m     62\u001B[0m         \u001B[38;5;28;01mif\u001B[39;00m idx \u001B[38;5;241m==\u001B[39m \u001B[38;5;28mlen\u001B[39m(\u001B[38;5;28mself\u001B[39m\u001B[38;5;241m.\u001B[39m_backend_names) \u001B[38;5;241m-\u001B[39m \u001B[38;5;241m1\u001B[39m:\n",
      "File \u001B[0;32m~/documents/projects/prosperity-imc-2025/.venv/lib/python3.10/site-packages/jsonpickle/backend.py:215\u001B[0m, in \u001B[0;36mJSONBackend.backend_decode\u001B[0;34m(self, name, string)\u001B[0m\n\u001B[1;32m    213\u001B[0m optargs, optkwargs \u001B[38;5;241m=\u001B[39m \u001B[38;5;28mself\u001B[39m\u001B[38;5;241m.\u001B[39m_decoder_options\u001B[38;5;241m.\u001B[39mget(name, ((), {}))\n\u001B[1;32m    214\u001B[0m decoder_kwargs \u001B[38;5;241m=\u001B[39m optkwargs\u001B[38;5;241m.\u001B[39mcopy()\n\u001B[0;32m--> 215\u001B[0m \u001B[38;5;28;01mreturn\u001B[39;00m \u001B[38;5;28;43mself\u001B[39;49m\u001B[38;5;241;43m.\u001B[39;49m\u001B[43m_decoders\u001B[49m\u001B[43m[\u001B[49m\u001B[43mname\u001B[49m\u001B[43m]\u001B[49m\u001B[43m(\u001B[49m\u001B[43mstring\u001B[49m\u001B[43m,\u001B[49m\u001B[43m \u001B[49m\u001B[38;5;241;43m*\u001B[39;49m\u001B[43moptargs\u001B[49m\u001B[43m,\u001B[49m\u001B[43m \u001B[49m\u001B[38;5;241;43m*\u001B[39;49m\u001B[38;5;241;43m*\u001B[39;49m\u001B[43mdecoder_kwargs\u001B[49m\u001B[43m)\u001B[49m\n",
      "File \u001B[0;32m~/halofiles/.local/share/pyenv/versions/3.10.16/lib/python3.10/json/__init__.py:346\u001B[0m, in \u001B[0;36mloads\u001B[0;34m(s, cls, object_hook, parse_float, parse_int, parse_constant, object_pairs_hook, **kw)\u001B[0m\n\u001B[1;32m    341\u001B[0m     s \u001B[38;5;241m=\u001B[39m s\u001B[38;5;241m.\u001B[39mdecode(detect_encoding(s), \u001B[38;5;124m'\u001B[39m\u001B[38;5;124msurrogatepass\u001B[39m\u001B[38;5;124m'\u001B[39m)\n\u001B[1;32m    343\u001B[0m \u001B[38;5;28;01mif\u001B[39;00m (\u001B[38;5;28mcls\u001B[39m \u001B[38;5;129;01mis\u001B[39;00m \u001B[38;5;28;01mNone\u001B[39;00m \u001B[38;5;129;01mand\u001B[39;00m object_hook \u001B[38;5;129;01mis\u001B[39;00m \u001B[38;5;28;01mNone\u001B[39;00m \u001B[38;5;129;01mand\u001B[39;00m\n\u001B[1;32m    344\u001B[0m         parse_int \u001B[38;5;129;01mis\u001B[39;00m \u001B[38;5;28;01mNone\u001B[39;00m \u001B[38;5;129;01mand\u001B[39;00m parse_float \u001B[38;5;129;01mis\u001B[39;00m \u001B[38;5;28;01mNone\u001B[39;00m \u001B[38;5;129;01mand\u001B[39;00m\n\u001B[1;32m    345\u001B[0m         parse_constant \u001B[38;5;129;01mis\u001B[39;00m \u001B[38;5;28;01mNone\u001B[39;00m \u001B[38;5;129;01mand\u001B[39;00m object_pairs_hook \u001B[38;5;129;01mis\u001B[39;00m \u001B[38;5;28;01mNone\u001B[39;00m \u001B[38;5;129;01mand\u001B[39;00m \u001B[38;5;129;01mnot\u001B[39;00m kw):\n\u001B[0;32m--> 346\u001B[0m     \u001B[38;5;28;01mreturn\u001B[39;00m \u001B[43m_default_decoder\u001B[49m\u001B[38;5;241;43m.\u001B[39;49m\u001B[43mdecode\u001B[49m\u001B[43m(\u001B[49m\u001B[43ms\u001B[49m\u001B[43m)\u001B[49m\n\u001B[1;32m    347\u001B[0m \u001B[38;5;28;01mif\u001B[39;00m \u001B[38;5;28mcls\u001B[39m \u001B[38;5;129;01mis\u001B[39;00m \u001B[38;5;28;01mNone\u001B[39;00m:\n\u001B[1;32m    348\u001B[0m     \u001B[38;5;28mcls\u001B[39m \u001B[38;5;241m=\u001B[39m JSONDecoder\n",
      "File \u001B[0;32m~/halofiles/.local/share/pyenv/versions/3.10.16/lib/python3.10/json/decoder.py:337\u001B[0m, in \u001B[0;36mJSONDecoder.decode\u001B[0;34m(self, s, _w)\u001B[0m\n\u001B[1;32m    332\u001B[0m \u001B[38;5;28;01mdef\u001B[39;00m\u001B[38;5;250m \u001B[39m\u001B[38;5;21mdecode\u001B[39m(\u001B[38;5;28mself\u001B[39m, s, _w\u001B[38;5;241m=\u001B[39mWHITESPACE\u001B[38;5;241m.\u001B[39mmatch):\n\u001B[1;32m    333\u001B[0m \u001B[38;5;250m    \u001B[39m\u001B[38;5;124;03m\"\"\"Return the Python representation of ``s`` (a ``str`` instance\u001B[39;00m\n\u001B[1;32m    334\u001B[0m \u001B[38;5;124;03m    containing a JSON document).\u001B[39;00m\n\u001B[1;32m    335\u001B[0m \n\u001B[1;32m    336\u001B[0m \u001B[38;5;124;03m    \"\"\"\u001B[39;00m\n\u001B[0;32m--> 337\u001B[0m     obj, end \u001B[38;5;241m=\u001B[39m \u001B[38;5;28;43mself\u001B[39;49m\u001B[38;5;241;43m.\u001B[39;49m\u001B[43mraw_decode\u001B[49m\u001B[43m(\u001B[49m\u001B[43ms\u001B[49m\u001B[43m,\u001B[49m\u001B[43m \u001B[49m\u001B[43midx\u001B[49m\u001B[38;5;241;43m=\u001B[39;49m\u001B[43m_w\u001B[49m\u001B[43m(\u001B[49m\u001B[43ms\u001B[49m\u001B[43m,\u001B[49m\u001B[43m \u001B[49m\u001B[38;5;241;43m0\u001B[39;49m\u001B[43m)\u001B[49m\u001B[38;5;241;43m.\u001B[39;49m\u001B[43mend\u001B[49m\u001B[43m(\u001B[49m\u001B[43m)\u001B[49m\u001B[43m)\u001B[49m\n\u001B[1;32m    338\u001B[0m     end \u001B[38;5;241m=\u001B[39m _w(s, end)\u001B[38;5;241m.\u001B[39mend()\n\u001B[1;32m    339\u001B[0m     \u001B[38;5;28;01mif\u001B[39;00m end \u001B[38;5;241m!=\u001B[39m \u001B[38;5;28mlen\u001B[39m(s):\n",
      "File \u001B[0;32m~/halofiles/.local/share/pyenv/versions/3.10.16/lib/python3.10/json/decoder.py:353\u001B[0m, in \u001B[0;36mJSONDecoder.raw_decode\u001B[0;34m(self, s, idx)\u001B[0m\n\u001B[1;32m    344\u001B[0m \u001B[38;5;250m\u001B[39m\u001B[38;5;124;03m\"\"\"Decode a JSON document from ``s`` (a ``str`` beginning with\u001B[39;00m\n\u001B[1;32m    345\u001B[0m \u001B[38;5;124;03ma JSON document) and return a 2-tuple of the Python\u001B[39;00m\n\u001B[1;32m    346\u001B[0m \u001B[38;5;124;03mrepresentation and the index in ``s`` where the document ended.\u001B[39;00m\n\u001B[0;32m   (...)\u001B[0m\n\u001B[1;32m    350\u001B[0m \n\u001B[1;32m    351\u001B[0m \u001B[38;5;124;03m\"\"\"\u001B[39;00m\n\u001B[1;32m    352\u001B[0m \u001B[38;5;28;01mtry\u001B[39;00m:\n\u001B[0;32m--> 353\u001B[0m     obj, end \u001B[38;5;241m=\u001B[39m \u001B[38;5;28;43mself\u001B[39;49m\u001B[38;5;241;43m.\u001B[39;49m\u001B[43mscan_once\u001B[49m\u001B[43m(\u001B[49m\u001B[43ms\u001B[49m\u001B[43m,\u001B[49m\u001B[43m \u001B[49m\u001B[43midx\u001B[49m\u001B[43m)\u001B[49m\n\u001B[1;32m    354\u001B[0m \u001B[38;5;28;01mexcept\u001B[39;00m \u001B[38;5;167;01mStopIteration\u001B[39;00m \u001B[38;5;28;01mas\u001B[39;00m err:\n\u001B[1;32m    355\u001B[0m     \u001B[38;5;28;01mraise\u001B[39;00m JSONDecodeError(\u001B[38;5;124m\"\u001B[39m\u001B[38;5;124mExpecting value\u001B[39m\u001B[38;5;124m\"\u001B[39m, s, err\u001B[38;5;241m.\u001B[39mvalue) \u001B[38;5;28;01mfrom\u001B[39;00m\u001B[38;5;250m \u001B[39m\u001B[38;5;28;01mNone\u001B[39;00m\n",
      "\u001B[0;31mKeyboardInterrupt\u001B[0m: "
     ]
    }
   ],
   "execution_count": 95
  },
  {
   "cell_type": "code",
   "execution_count": null,
   "id": "b34a4c73",
   "metadata": {},
   "outputs": [],
   "source": []
  }
 ],
 "metadata": {
  "kernelspec": {
   "display_name": "Python 3 (ipykernel)",
   "language": "python",
   "name": "python3"
  },
  "language_info": {
   "codemirror_mode": {
    "name": "ipython",
    "version": 3
   },
   "file_extension": ".py",
   "mimetype": "text/x-python",
   "name": "python",
   "nbconvert_exporter": "python",
   "pygments_lexer": "ipython3",
   "version": "3.11.8"
  },
  "toc": {
   "base_numbering": 1,
   "nav_menu": {},
   "number_sections": true,
   "sideBar": true,
   "skip_h1_title": false,
   "title_cell": "Table of Contents",
   "title_sidebar": "Contents",
   "toc_cell": false,
   "toc_position": {},
   "toc_section_display": true,
   "toc_window_display": false
  }
 },
 "nbformat": 4,
 "nbformat_minor": 5
}
